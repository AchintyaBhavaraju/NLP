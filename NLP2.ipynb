{
 "cells": [
  {
   "cell_type": "code",
   "execution_count": 12,
   "id": "53016ff7",
   "metadata": {},
   "outputs": [
    {
     "name": "stdout",
     "output_type": "stream",
     "text": [
      "Requirement already satisfied: nltk in c:\\users\\achin\\anaconda3\\lib\\site-packages (3.6.5)\n",
      "Requirement already satisfied: click in c:\\users\\achin\\anaconda3\\lib\\site-packages (from nltk) (8.0.3)\n",
      "Requirement already satisfied: joblib in c:\\users\\achin\\anaconda3\\lib\\site-packages (from nltk) (1.1.0)\n",
      "Requirement already satisfied: regex>=2021.8.3 in c:\\users\\achin\\anaconda3\\lib\\site-packages (from nltk) (2021.8.3)\n",
      "Requirement already satisfied: tqdm in c:\\users\\achin\\anaconda3\\lib\\site-packages (from nltk) (4.62.3)\n",
      "Requirement already satisfied: colorama in c:\\users\\achin\\anaconda3\\lib\\site-packages (from click->nltk) (0.4.4)\n",
      "Collecting hmmlearn\n",
      "  Downloading hmmlearn-0.2.8-cp39-cp39-win_amd64.whl (110 kB)\n",
      "Requirement already satisfied: numpy>=1.10 in c:\\users\\achin\\anaconda3\\lib\\site-packages (from hmmlearn) (1.20.3)\n",
      "Requirement already satisfied: scipy>=0.19 in c:\\users\\achin\\anaconda3\\lib\\site-packages (from hmmlearn) (1.7.1)\n",
      "Requirement already satisfied: scikit-learn>=0.16 in c:\\users\\achin\\anaconda3\\lib\\site-packages (from hmmlearn) (0.24.2)\n",
      "Requirement already satisfied: joblib>=0.11 in c:\\users\\achin\\anaconda3\\lib\\site-packages (from scikit-learn>=0.16->hmmlearn) (1.1.0)\n",
      "Requirement already satisfied: threadpoolctl>=2.0.0 in c:\\users\\achin\\anaconda3\\lib\\site-packages (from scikit-learn>=0.16->hmmlearn) (2.2.0)\n",
      "Installing collected packages: hmmlearn\n",
      "Successfully installed hmmlearn-0.2.8\n"
     ]
    }
   ],
   "source": [
    "!pip install nltk\n",
    "from nltk.corpus import movie_reviews\n",
    "!pip install hmmlearn"
   ]
  },
  {
   "cell_type": "code",
   "execution_count": 8,
   "id": "bab506e8",
   "metadata": {},
   "outputs": [
    {
     "ename": "AttributeError",
     "evalue": "'CategorizedPlaintextCorpusReader' object has no attribute 'tagged_sents'",
     "output_type": "error",
     "traceback": [
      "\u001b[1;31m---------------------------------------------------------------------------\u001b[0m",
      "\u001b[1;31mAttributeError\u001b[0m                            Traceback (most recent call last)",
      "\u001b[1;32m~\\AppData\\Local\\Temp/ipykernel_6844/3582644958.py\u001b[0m in \u001b[0;36m<module>\u001b[1;34m\u001b[0m\n\u001b[0;32m      4\u001b[0m \u001b[1;33m\u001b[0m\u001b[0m\n\u001b[0;32m      5\u001b[0m \u001b[1;31m# Get the tagged sentences from the Brown corpus\u001b[0m\u001b[1;33m\u001b[0m\u001b[1;33m\u001b[0m\u001b[0m\n\u001b[1;32m----> 6\u001b[1;33m \u001b[0mtagged_sents\u001b[0m \u001b[1;33m=\u001b[0m \u001b[0mmovie_reviews\u001b[0m\u001b[1;33m.\u001b[0m\u001b[0mtagged_sents\u001b[0m\u001b[1;33m(\u001b[0m\u001b[1;33m)\u001b[0m\u001b[1;33m\u001b[0m\u001b[1;33m\u001b[0m\u001b[0m\n\u001b[0m\u001b[0;32m      7\u001b[0m \u001b[1;33m\u001b[0m\u001b[0m\n\u001b[0;32m      8\u001b[0m \u001b[1;31m# Split the tagged sentences into training and test sets\u001b[0m\u001b[1;33m\u001b[0m\u001b[1;33m\u001b[0m\u001b[0m\n",
      "\u001b[1;31mAttributeError\u001b[0m: 'CategorizedPlaintextCorpusReader' object has no attribute 'tagged_sents'"
     ]
    }
   ],
   "source": [
    "import nltk\n",
    "from nltk.corpus import movie_reviews\n",
    "from nltk.probability import ConditionalFreqDist, ConditionalProbDist, MLEProbDist\n",
    "\n",
    "# Get the tagged sentences from the Brown corpus\n",
    "tagged_sents = movie_reviews.tagged_sents()\n",
    "\n",
    "# Split the tagged sentences into training and test sets\n",
    "split_index = int(len(tagged_sents) * 0.9)\n",
    "training_sents = tagged_sents[:split_index]\n",
    "test_sents = tagged_sents[split_index:]\n",
    "\n",
    "# Create the HMM model\n",
    "model = nltk.HiddenMarkovModelTagger.train(training_sents,order=1)\n",
    "\n",
    "# Evaluate the model on the test set\n",
    "predictions = model.tag_sents(test_sents)\n",
    "\n",
    "# Compute the precision, recall, and F1-score\n",
    "precision = nltk.scores.precision(predictions, test_sents)\n",
    "recall = nltk.metrics.recall(predictions, test_sents)\n",
    "f1_score = nltk.metrics.f_measure(predictions, test_sents)\n",
    "\n",
    "print(f'Precision: {precision:.3f}')\n",
    "print(f'Recall: {recall:.3f}')\n",
    "print(f'F1-score: {f1_score:.3f}')\n",
    "\n",
    "# Compute the confusion matrix\n",
    "confusion_matrix = nltk.metrics.ConfusionMatrix(predictions, test_sents)\n",
    "print(confusion_matrix)"
   ]
  },
  {
   "cell_type": "code",
   "execution_count": 13,
   "id": "b9c06a58",
   "metadata": {},
   "outputs": [
    {
     "ename": "AttributeError",
     "evalue": "'CategorizedPlaintextCorpusReader' object has no attribute 'tagged_sents'",
     "output_type": "error",
     "traceback": [
      "\u001b[1;31m---------------------------------------------------------------------------\u001b[0m",
      "\u001b[1;31mAttributeError\u001b[0m                            Traceback (most recent call last)",
      "\u001b[1;32m~\\AppData\\Local\\Temp/ipykernel_6844/1486385142.py\u001b[0m in \u001b[0;36m<module>\u001b[1;34m\u001b[0m\n\u001b[0;32m      3\u001b[0m \u001b[1;32mfrom\u001b[0m \u001b[0mnltk\u001b[0m\u001b[1;33m.\u001b[0m\u001b[0mcorpus\u001b[0m \u001b[1;32mimport\u001b[0m \u001b[0mmovie_reviews\u001b[0m\u001b[1;33m\u001b[0m\u001b[1;33m\u001b[0m\u001b[0m\n\u001b[0;32m      4\u001b[0m \u001b[1;31m# Load the Brown Corpus\u001b[0m\u001b[1;33m\u001b[0m\u001b[1;33m\u001b[0m\u001b[0m\n\u001b[1;32m----> 5\u001b[1;33m \u001b[0mcorpus\u001b[0m \u001b[1;33m=\u001b[0m \u001b[0mmovie_reviews\u001b[0m\u001b[1;33m.\u001b[0m\u001b[0mtagged_sents\u001b[0m\u001b[1;33m(\u001b[0m\u001b[1;33m)\u001b[0m\u001b[1;33m\u001b[0m\u001b[1;33m\u001b[0m\u001b[0m\n\u001b[0m\u001b[0;32m      6\u001b[0m \u001b[1;31m# Split the corpus into training and test sets\u001b[0m\u001b[1;33m\u001b[0m\u001b[1;33m\u001b[0m\u001b[0m\n\u001b[0;32m      7\u001b[0m \u001b[0mtrain_corpus\u001b[0m \u001b[1;33m=\u001b[0m \u001b[0mcorpus\u001b[0m\u001b[1;33m[\u001b[0m\u001b[1;33m:\u001b[0m\u001b[0mint\u001b[0m\u001b[1;33m(\u001b[0m\u001b[0mlen\u001b[0m\u001b[1;33m(\u001b[0m\u001b[0mcorpus\u001b[0m\u001b[1;33m)\u001b[0m \u001b[1;33m*\u001b[0m \u001b[1;36m0.8\u001b[0m\u001b[1;33m)\u001b[0m\u001b[1;33m]\u001b[0m\u001b[1;33m\u001b[0m\u001b[1;33m\u001b[0m\u001b[0m\n",
      "\u001b[1;31mAttributeError\u001b[0m: 'CategorizedPlaintextCorpusReader' object has no attribute 'tagged_sents'"
     ]
    }
   ],
   "source": [
    "import numpy as np\n",
    "from hmmlearn import hmm\n",
    "from nltk.corpus import movie_reviews\n",
    "# Load the Brown Corpus\n",
    "corpus = movie_reviews.tagged_sents()\n",
    "# Split the corpus into training and test sets\n",
    "train_corpus = corpus[:int(len(corpus) * 0.8)]\n",
    "test_corpus = corpus[int(len(corpus) * 0.8):]\n",
    "# Extract the vocabulary and the list of POS tags\n",
    "vocab = set()\n",
    "tags = set()\n",
    "for sent in corpus:\n",
    "    for word, tag in sent:\n",
    "        vocab.add(word)\n",
    "        tags.add(tag)\n",
    "vocab = list(vocab)\n",
    "tags = list(tags)\n",
    "\n",
    "# Create a mapping from words to indices and from POS tags to indices\n",
    "word_to_index = {word: i for i, word in enumerate(vocab)}\n",
    "tag_to_index = {tag: i for i, tag in enumerate(tags)}\n",
    "\n",
    "# Define the model\n",
    "model = hmm.MultinomialHMM(n_components=len(tags), n_iter=100, params='ste', init_params='ste')\n",
    "model.n_features = 1  # Markov assumption length of 1\n",
    "# Evaluate the model on the test set\n",
    "predictions = model.tag_sents(test_sents)\n",
    "# Compute the precision, recall, and F1-score\n",
    "precision = nltk.metrics.precision(predictions, test_sents)\n",
    "recall = nltk.metrics.recall(predictions, test_sents)\n",
    "f1_score = nltk.metrics.f_measure(predictions, test_sents)\n",
    "\n",
    "print(f'Precision: {precision:.3f}')\n",
    "print(f'Recall: {recall:.3f}')\n",
    "print(f'F1-score: {f1_score:.3f}')\n",
    "# Compute the confusion matrix\n",
    "confusion_matrix = nltk.metrics.ConfusionMatrix(predictions, test_sents)\n",
    "print(confusion_matrix)"
   ]
  },
  {
   "cell_type": "code",
   "execution_count": null,
   "id": "7e74de5f",
   "metadata": {},
   "outputs": [],
   "source": []
  }
 ],
 "metadata": {
  "kernelspec": {
   "display_name": "Python 3 (ipykernel)",
   "language": "python",
   "name": "python3"
  },
  "language_info": {
   "codemirror_mode": {
    "name": "ipython",
    "version": 3
   },
   "file_extension": ".py",
   "mimetype": "text/x-python",
   "name": "python",
   "nbconvert_exporter": "python",
   "pygments_lexer": "ipython3",
   "version": "3.9.7"
  }
 },
 "nbformat": 4,
 "nbformat_minor": 5
}
