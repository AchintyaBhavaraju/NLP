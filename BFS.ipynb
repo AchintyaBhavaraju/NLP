{
 "cells": [
  {
   "cell_type": "code",
   "execution_count": 17,
   "id": "fe6ecf0e",
   "metadata": {},
   "outputs": [
    {
     "data": {
      "image/png": "[encoded data removed]",
      "text/plain": [
       "<Figure size 432x288 with 1 Axes>"
      ]
     },
     "metadata": {
      "needs_background": "light"
     },
     "output_type": "display_data"
    }
   ],
   "source": [
    "def bfsOfGraph(V, adj):\n",
    "\n",
    "    bfs_traversal = []\n",
    "    vis = [False]*V\n",
    "    for i in range(V):\n",
    "\n",
    "        if (vis[i] == False):\n",
    "            q = []\n",
    "            vis[i] = True\n",
    "            q.append(i)\n",
    "\n",
    "    while (len(q) > 0):\n",
    "        g_node = q.pop(0)\n",
    "\n",
    "    bfs_traversal.append(g_node)\n",
    "    for it in adj[g_node]:\n",
    "        if (vis[it] == False):\n",
    "            vis[it] = True\n",
    "            q.append(it)\n",
    "\n",
    "    return bfs_traversal\n",
    "\n",
    "\n",
    "import matplotlib.pyplot as plt\n",
    "\n",
    "data = {'inputs' : [5, 10, 15, 18],\n",
    "        'time' : [37, 64, 112, 110]}\n",
    "\n",
    "plt.figure(1)\n",
    "plt.plot(data['time'], data['inputs'])\n",
    "plt.title('time vs input length')\n",
    "plt.show()"
   ]
  },
  {
   "cell_type": "code",
   "execution_count": null,
   "id": "e79034bb",
   "metadata": {},
   "outputs": [],
   "source": []
  }
 ],
 "metadata": {
  "kernelspec": {
   "display_name": "Python 3 (ipykernel)",
   "language": "python",
   "name": "python3"
  },
  "language_info": {
   "codemirror_mode": {
    "name": "ipython",
    "version": 3
   },
   "file_extension": ".py",
   "mimetype": "text/x-python",
   "name": "python",
   "nbconvert_exporter": "python",
   "pygments_lexer": "ipython3",
   "version": "3.9.7"
  }
 },
 "nbformat": 4,
 "nbformat_minor": 5
}
