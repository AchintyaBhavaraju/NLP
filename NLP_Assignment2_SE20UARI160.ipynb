{
 "cells": [
  {
   "cell_type": "markdown",
   "id": "8bcc5f2c",
   "metadata": {},
   "source": [
    "PART A Q1"
   ]
  },
  {
   "cell_type": "code",
   "execution_count": 2,
   "id": "40578bac",
   "metadata": {},
   "outputs": [
    {
     "name": "stderr",
     "output_type": "stream",
     "text": [
      "[nltk_data] Downloading package stopwords to\n",
      "[nltk_data]     C:\\Users\\achin\\AppData\\Roaming\\nltk_data...\n",
      "[nltk_data]   Package stopwords is already up-to-date!\n"
     ]
    }
   ],
   "source": [
    "import numpy as np\n",
    "import pandas as pd\n",
    "import matplotlib.pyplot as plt\n",
    "import seaborn as sns\n",
    "%matplotlib inline\n",
    "import warnings\n",
    "warnings.filterwarnings('ignore')\n",
    "\n",
    "%config InlineBackend.figure_format = 'retina'\n",
    "import re\n",
    "import nltk\n",
    "nltk.download('stopwords')\n",
    "from nltk.corpus import stopwords\n",
    "from nltk.stem.porter import PorterStemmer\n",
    "from sklearn.feature_extraction.text import CountVectorizer\n",
    "from sklearn.model_selection import train_test_split\n",
    "from sklearn.naive_bayes import MultinomialNB\n",
    "from sklearn.metrics import accuracy_score,confusion_matrix,classification_report"
   ]
  },
  {
   "cell_type": "code",
   "execution_count": 6,
   "id": "66162db1",
   "metadata": {},
   "outputs": [],
   "source": [
    "data = pd.read_csv(r'D:\\OneDrive\\Desktop\\spam.csv',encoding='latin-1')"
   ]
  },
  {
   "cell_type": "code",
   "execution_count": 7,
   "id": "1f07ab3f",
   "metadata": {},
   "outputs": [
    {
     "data": {
      "text/html": [
       "<div>\n",
       "<style scoped>\n",
       "    .dataframe tbody tr th:only-of-type {\n",
       "        vertical-align: middle;\n",
       "    }\n",
       "\n",
       "    .dataframe tbody tr th {\n",
       "        vertical-align: top;\n",
       "    }\n",
       "\n",
       "    .dataframe thead th {\n",
       "        text-align: right;\n",
       "    }\n",
       "</style>\n",
       "<table border=\"1\" class=\"dataframe\">\n",
       "  <thead>\n",
       "    <tr style=\"text-align: right;\">\n",
       "      <th></th>\n",
       "      <th>v1</th>\n",
       "      <th>v2</th>\n",
       "      <th>Unnamed: 2</th>\n",
       "      <th>Unnamed: 3</th>\n",
       "      <th>Unnamed: 4</th>\n",
       "    </tr>\n",
       "  </thead>\n",
       "  <tbody>\n",
       "    <tr>\n",
       "      <th>0</th>\n",
       "      <td>ham</td>\n",
       "      <td>Go until jurong point, crazy.. Available only ...</td>\n",
       "      <td>NaN</td>\n",
       "      <td>NaN</td>\n",
       "      <td>NaN</td>\n",
       "    </tr>\n",
       "    <tr>\n",
       "      <th>1</th>\n",
       "      <td>ham</td>\n",
       "      <td>Ok lar... Joking wif u oni...</td>\n",
       "      <td>NaN</td>\n",
       "      <td>NaN</td>\n",
       "      <td>NaN</td>\n",
       "    </tr>\n",
       "    <tr>\n",
       "      <th>2</th>\n",
       "      <td>spam</td>\n",
       "      <td>Free entry in 2 a wkly comp to win FA Cup fina...</td>\n",
       "      <td>NaN</td>\n",
       "      <td>NaN</td>\n",
       "      <td>NaN</td>\n",
       "    </tr>\n",
       "    <tr>\n",
       "      <th>3</th>\n",
       "      <td>ham</td>\n",
       "      <td>U dun say so early hor... U c already then say...</td>\n",
       "      <td>NaN</td>\n",
       "      <td>NaN</td>\n",
       "      <td>NaN</td>\n",
       "    </tr>\n",
       "    <tr>\n",
       "      <th>4</th>\n",
       "      <td>ham</td>\n",
       "      <td>Nah I don't think he goes to usf, he lives aro...</td>\n",
       "      <td>NaN</td>\n",
       "      <td>NaN</td>\n",
       "      <td>NaN</td>\n",
       "    </tr>\n",
       "  </tbody>\n",
       "</table>\n",
       "</div>"
      ],
      "text/plain": [
       "     v1                                                 v2 Unnamed: 2  \\\n",
       "0   ham  Go until jurong point, crazy.. Available only ...        NaN   \n",
       "1   ham                      Ok lar... Joking wif u oni...        NaN   \n",
       "2  spam  Free entry in 2 a wkly comp to win FA Cup fina...        NaN   \n",
       "3   ham  U dun say so early hor... U c already then say...        NaN   \n",
       "4   ham  Nah I don't think he goes to usf, he lives aro...        NaN   \n",
       "\n",
       "  Unnamed: 3 Unnamed: 4  \n",
       "0        NaN        NaN  \n",
       "1        NaN        NaN  \n",
       "2        NaN        NaN  \n",
       "3        NaN        NaN  \n",
       "4        NaN        NaN  "
      ]
     },
     "execution_count": 7,
     "metadata": {},
     "output_type": "execute_result"
    }
   ],
   "source": [
    "data.head()"
   ]
  },
  {
   "cell_type": "code",
   "execution_count": 8,
   "id": "d2b4a5a4",
   "metadata": {},
   "outputs": [],
   "source": [
    "data = data.drop([\"Unnamed: 2\", \"Unnamed: 3\", \"Unnamed: 4\"], axis=1)\n",
    "data = data.rename(columns={\"v1\":\"label\", \"v2\":\"text\"})"
   ]
  },
  {
   "cell_type": "code",
   "execution_count": 9,
   "id": "3609c27e",
   "metadata": {},
   "outputs": [],
   "source": [
    "data['label'] = data.label.map({'ham':0, 'spam':1})"
   ]
  },
  {
   "cell_type": "code",
   "execution_count": 10,
   "id": "80488dab",
   "metadata": {},
   "outputs": [
    {
     "data": {
      "text/html": [
       "<div>\n",
       "<style scoped>\n",
       "    .dataframe tbody tr th:only-of-type {\n",
       "        vertical-align: middle;\n",
       "    }\n",
       "\n",
       "    .dataframe tbody tr th {\n",
       "        vertical-align: top;\n",
       "    }\n",
       "\n",
       "    .dataframe thead th {\n",
       "        text-align: right;\n",
       "    }\n",
       "</style>\n",
       "<table border=\"1\" class=\"dataframe\">\n",
       "  <thead>\n",
       "    <tr style=\"text-align: right;\">\n",
       "      <th></th>\n",
       "      <th>label</th>\n",
       "      <th>text</th>\n",
       "    </tr>\n",
       "  </thead>\n",
       "  <tbody>\n",
       "    <tr>\n",
       "      <th>0</th>\n",
       "      <td>0</td>\n",
       "      <td>Go until jurong point, crazy.. Available only ...</td>\n",
       "    </tr>\n",
       "    <tr>\n",
       "      <th>1</th>\n",
       "      <td>0</td>\n",
       "      <td>Ok lar... Joking wif u oni...</td>\n",
       "    </tr>\n",
       "    <tr>\n",
       "      <th>2</th>\n",
       "      <td>1</td>\n",
       "      <td>Free entry in 2 a wkly comp to win FA Cup fina...</td>\n",
       "    </tr>\n",
       "    <tr>\n",
       "      <th>3</th>\n",
       "      <td>0</td>\n",
       "      <td>U dun say so early hor... U c already then say...</td>\n",
       "    </tr>\n",
       "    <tr>\n",
       "      <th>4</th>\n",
       "      <td>0</td>\n",
       "      <td>Nah I don't think he goes to usf, he lives aro...</td>\n",
       "    </tr>\n",
       "  </tbody>\n",
       "</table>\n",
       "</div>"
      ],
      "text/plain": [
       "   label                                               text\n",
       "0      0  Go until jurong point, crazy.. Available only ...\n",
       "1      0                      Ok lar... Joking wif u oni...\n",
       "2      1  Free entry in 2 a wkly comp to win FA Cup fina...\n",
       "3      0  U dun say so early hor... U c already then say...\n",
       "4      0  Nah I don't think he goes to usf, he lives aro..."
      ]
     },
     "execution_count": 10,
     "metadata": {},
     "output_type": "execute_result"
    }
   ],
   "source": [
    "data.head()"
   ]
  },
  {
   "cell_type": "code",
   "execution_count": 11,
   "id": "21ef3e63",
   "metadata": {},
   "outputs": [
    {
     "data": {
      "text/plain": [
       "0    4825\n",
       "1     747\n",
       "Name: label, dtype: int64"
      ]
     },
     "execution_count": 11,
     "metadata": {},
     "output_type": "execute_result"
    }
   ],
   "source": [
    "data.label.value_counts()"
   ]
  },
  {
   "cell_type": "code",
   "execution_count": 15,
   "id": "ae3b00e8",
   "metadata": {},
   "outputs": [],
   "source": [
    "corpus = []\n",
    "for i in range(0, len(data)):\n",
    "    review = re.sub('[^a-zA-Z]', ' ', data['text'][i])\n",
    "    review = review.lower()\n",
    "    review = review.split()\n",
    "    ps = PorterStemmer()\n",
    "    review = [ps.stem(word) for word in review if not word in set(stopwords.words('english'))]\n",
    "    review = ' '.join(review)\n",
    "    corpus.append(review)\n",
    "    \n",
    "from sklearn.feature_extraction.text import CountVectorizer\n",
    "cv = CountVectorizer()\n",
    "X = cv.fit_transform(corpus).toarray()\n",
    "y = data.iloc[:, 0].values"
   ]
  },
  {
   "cell_type": "code",
   "execution_count": 16,
   "id": "c9c69413",
   "metadata": {},
   "outputs": [],
   "source": [
    "cv = CountVectorizer()\n",
    "X = cv.fit_transform(corpus).toarray()\n",
    "y = data.iloc[:, 0].values"
   ]
  },
  {
   "cell_type": "code",
   "execution_count": 17,
   "id": "9e8b9903",
   "metadata": {},
   "outputs": [
    {
     "ename": "AttributeError",
     "evalue": "'CountVectorizer' object has no attribute 'get_feature_names'",
     "output_type": "error",
     "traceback": [
      "\u001b[1;31m---------------------------------------------------------------------------\u001b[0m",
      "\u001b[1;31mAttributeError\u001b[0m                            Traceback (most recent call last)",
      "\u001b[1;32m~\\AppData\\Local\\Temp/ipykernel_17860/2925443016.py\u001b[0m in \u001b[0;36m<module>\u001b[1;34m\u001b[0m\n\u001b[1;32m----> 1\u001b[1;33m \u001b[0mprint\u001b[0m\u001b[1;33m(\u001b[0m\u001b[0mcv\u001b[0m\u001b[1;33m.\u001b[0m\u001b[0mget_feature_names\u001b[0m\u001b[1;33m(\u001b[0m\u001b[1;33m)\u001b[0m\u001b[1;33m[\u001b[0m\u001b[1;36m0\u001b[0m\u001b[1;33m:\u001b[0m\u001b[1;36m20\u001b[0m\u001b[1;33m]\u001b[0m\u001b[1;33m)\u001b[0m\u001b[1;33m\u001b[0m\u001b[1;33m\u001b[0m\u001b[0m\n\u001b[0m\u001b[0;32m      2\u001b[0m \u001b[0mprint\u001b[0m\u001b[1;33m(\u001b[0m\u001b[0mcv\u001b[0m\u001b[1;33m.\u001b[0m\u001b[0mget_feature_names\u001b[0m\u001b[1;33m(\u001b[0m\u001b[1;33m)\u001b[0m\u001b[1;33m[\u001b[0m\u001b[1;33m-\u001b[0m\u001b[1;36m20\u001b[0m\u001b[1;33m:\u001b[0m\u001b[1;33m]\u001b[0m\u001b[1;33m)\u001b[0m\u001b[1;33m\u001b[0m\u001b[1;33m\u001b[0m\u001b[0m\n",
      "\u001b[1;31mAttributeError\u001b[0m: 'CountVectorizer' object has no attribute 'get_feature_names'"
     ]
    }
   ],
   "source": [
    "print(cv.get_feature_names()[0:20])\n",
    "print(cv.get_feature_names()[-20:])"
   ]
  },
  {
   "cell_type": "code",
   "execution_count": 18,
   "id": "f780007a",
   "metadata": {},
   "outputs": [
    {
     "name": "stdout",
     "output_type": "stream",
     "text": [
      "(5572, 6221) (5572,)\n"
     ]
    }
   ],
   "source": [
    "print(X.shape,y.shape)"
   ]
  },
  {
   "cell_type": "code",
   "execution_count": 19,
   "id": "005dadbb",
   "metadata": {},
   "outputs": [],
   "source": [
    "from sklearn.model_selection import train_test_split\n",
    "X_train, X_test, y_train, y_test = train_test_split(X, y, test_size = 0.20, random_state = 0)"
   ]
  },
  {
   "cell_type": "code",
   "execution_count": 20,
   "id": "9ba03cf4",
   "metadata": {},
   "outputs": [
    {
     "name": "stdout",
     "output_type": "stream",
     "text": [
      "(4457, 6221) (1115, 6221)\n"
     ]
    }
   ],
   "source": [
    "print(X_train.shape,X_test.shape)"
   ]
  },
  {
   "cell_type": "code",
   "execution_count": 21,
   "id": "dfd90cef",
   "metadata": {},
   "outputs": [
    {
     "data": {
      "text/html": [
       "<style>#sk-container-id-1 {color: black;background-color: white;}#sk-container-id-1 pre{padding: 0;}#sk-container-id-1 div.sk-toggleable {background-color: white;}#sk-container-id-1 label.sk-toggleable__label {cursor: pointer;display: block;width: 100%;margin-bottom: 0;padding: 0.3em;box-sizing: border-box;text-align: center;}#sk-container-id-1 label.sk-toggleable__label-arrow:before {content: \"▸\";float: left;margin-right: 0.25em;color: #696969;}#sk-container-id-1 label.sk-toggleable__label-arrow:hover:before {color: black;}#sk-container-id-1 div.sk-estimator:hover label.sk-toggleable__label-arrow:before {color: black;}#sk-container-id-1 div.sk-toggleable__content {max-height: 0;max-width: 0;overflow: hidden;text-align: left;background-color: #f0f8ff;}#sk-container-id-1 div.sk-toggleable__content pre {margin: 0.2em;color: black;border-radius: 0.25em;background-color: #f0f8ff;}#sk-container-id-1 input.sk-toggleable__control:checked~div.sk-toggleable__content {max-height: 200px;max-width: 100%;overflow: auto;}#sk-container-id-1 input.sk-toggleable__control:checked~label.sk-toggleable__label-arrow:before {content: \"▾\";}#sk-container-id-1 div.sk-estimator input.sk-toggleable__control:checked~label.sk-toggleable__label {background-color: #d4ebff;}#sk-container-id-1 div.sk-label input.sk-toggleable__control:checked~label.sk-toggleable__label {background-color: #d4ebff;}#sk-container-id-1 input.sk-hidden--visually {border: 0;clip: rect(1px 1px 1px 1px);clip: rect(1px, 1px, 1px, 1px);height: 1px;margin: -1px;overflow: hidden;padding: 0;position: absolute;width: 1px;}#sk-container-id-1 div.sk-estimator {font-family: monospace;background-color: #f0f8ff;border: 1px dotted black;border-radius: 0.25em;box-sizing: border-box;margin-bottom: 0.5em;}#sk-container-id-1 div.sk-estimator:hover {background-color: #d4ebff;}#sk-container-id-1 div.sk-parallel-item::after {content: \"\";width: 100%;border-bottom: 1px solid gray;flex-grow: 1;}#sk-container-id-1 div.sk-label:hover label.sk-toggleable__label {background-color: #d4ebff;}#sk-container-id-1 div.sk-serial::before {content: \"\";position: absolute;border-left: 1px solid gray;box-sizing: border-box;top: 0;bottom: 0;left: 50%;z-index: 0;}#sk-container-id-1 div.sk-serial {display: flex;flex-direction: column;align-items: center;background-color: white;padding-right: 0.2em;padding-left: 0.2em;position: relative;}#sk-container-id-1 div.sk-item {position: relative;z-index: 1;}#sk-container-id-1 div.sk-parallel {display: flex;align-items: stretch;justify-content: center;background-color: white;position: relative;}#sk-container-id-1 div.sk-item::before, #sk-container-id-1 div.sk-parallel-item::before {content: \"\";position: absolute;border-left: 1px solid gray;box-sizing: border-box;top: 0;bottom: 0;left: 50%;z-index: -1;}#sk-container-id-1 div.sk-parallel-item {display: flex;flex-direction: column;z-index: 1;position: relative;background-color: white;}#sk-container-id-1 div.sk-parallel-item:first-child::after {align-self: flex-end;width: 50%;}#sk-container-id-1 div.sk-parallel-item:last-child::after {align-self: flex-start;width: 50%;}#sk-container-id-1 div.sk-parallel-item:only-child::after {width: 0;}#sk-container-id-1 div.sk-dashed-wrapped {border: 1px dashed gray;margin: 0 0.4em 0.5em 0.4em;box-sizing: border-box;padding-bottom: 0.4em;background-color: white;}#sk-container-id-1 div.sk-label label {font-family: monospace;font-weight: bold;display: inline-block;line-height: 1.2em;}#sk-container-id-1 div.sk-label-container {text-align: center;}#sk-container-id-1 div.sk-container {/* jupyter's `normalize.less` sets `[hidden] { display: none; }` but bootstrap.min.css set `[hidden] { display: none !important; }` so we also need the `!important` here to be able to override the default hidden behavior on the sphinx rendered scikit-learn.org. See: https://github.com/scikit-learn/scikit-learn/issues/21755 */display: inline-block !important;position: relative;}#sk-container-id-1 div.sk-text-repr-fallback {display: none;}</style><div id=\"sk-container-id-1\" class=\"sk-top-container\"><div class=\"sk-text-repr-fallback\"><pre>MultinomialNB()</pre><b>In a Jupyter environment, please rerun this cell to show the HTML representation or trust the notebook. <br />On GitHub, the HTML representation is unable to render, please try loading this page with nbviewer.org.</b></div><div class=\"sk-container\" hidden><div class=\"sk-item\"><div class=\"sk-estimator sk-toggleable\"><input class=\"sk-toggleable__control sk-hidden--visually\" id=\"sk-estimator-id-1\" type=\"checkbox\" checked><label for=\"sk-estimator-id-1\" class=\"sk-toggleable__label sk-toggleable__label-arrow\">MultinomialNB</label><div class=\"sk-toggleable__content\"><pre>MultinomialNB()</pre></div></div></div></div></div>"
      ],
      "text/plain": [
       "MultinomialNB()"
      ]
     },
     "execution_count": 21,
     "metadata": {},
     "output_type": "execute_result"
    }
   ],
   "source": [
    "prediction = dict()\n",
    "classifier = MultinomialNB()\n",
    "classifier.fit(X_train, y_train)"
   ]
  },
  {
   "cell_type": "code",
   "execution_count": 22,
   "id": "56beb512",
   "metadata": {},
   "outputs": [
    {
     "data": {
      "text/plain": [
       "0.979372197309417"
      ]
     },
     "execution_count": 22,
     "metadata": {},
     "output_type": "execute_result"
    }
   ],
   "source": [
    "prediction[\"MultinomialNB\"] = classifier.predict(X_test)\n",
    "accuracy_score(y_test,prediction[\"MultinomialNB\"])"
   ]
  },
  {
   "cell_type": "code",
   "execution_count": 23,
   "id": "6807c2a9",
   "metadata": {},
   "outputs": [],
   "source": [
    "conf_mat = confusion_matrix(y_test, prediction['MultinomialNB'])\n",
    "conf_mat_normalized = conf_mat.astype('float') / conf_mat.sum(axis=1)[:, np.newaxis]"
   ]
  },
  {
   "cell_type": "code",
   "execution_count": 24,
   "id": "127e8c10",
   "metadata": {},
   "outputs": [
    {
     "data": {
      "text/plain": [
       "Text(0.5, 15.0, 'Predicted label')"
      ]
     },
     "execution_count": 24,
     "metadata": {},
     "output_type": "execute_result"
    },
    {
     "data": {
      "image/png": "[encoded data removed]",
      "text/plain": [
       "<Figure size 432x288 with 2 Axes>"
      ]
     },
     "metadata": {
      "image/png": {
       "height": 261,
       "width": 362
      },
      "needs_background": "light"
     },
     "output_type": "display_data"
    }
   ],
   "source": [
    "sns.heatmap(conf_mat_normalized)\n",
    "plt.ylabel('True label')\n",
    "plt.xlabel('Predicted label')"
   ]
  },
  {
   "cell_type": "code",
   "execution_count": 25,
   "id": "8d612658",
   "metadata": {},
   "outputs": [
    {
     "name": "stdout",
     "output_type": "stream",
     "text": [
      "[[932  17]\n",
      " [  6 160]]\n"
     ]
    }
   ],
   "source": [
    "print(conf_mat)"
   ]
  },
  {
   "cell_type": "code",
   "execution_count": 26,
   "id": "8875f49f",
   "metadata": {},
   "outputs": [
    {
     "data": {
      "text/plain": [
       "0.963855421686747"
      ]
     },
     "execution_count": 26,
     "metadata": {},
     "output_type": "execute_result"
    }
   ],
   "source": [
    "from sklearn.metrics import recall_score,precision_score\n",
    "recall_score(y_test, prediction['MultinomialNB'])"
   ]
  },
  {
   "cell_type": "code",
   "execution_count": 27,
   "id": "15d7893a",
   "metadata": {},
   "outputs": [
    {
     "data": {
      "text/plain": [
       "0.903954802259887"
      ]
     },
     "execution_count": 27,
     "metadata": {},
     "output_type": "execute_result"
    }
   ],
   "source": [
    "precision_score(y_test, prediction['MultinomialNB'])"
   ]
  },
  {
   "cell_type": "markdown",
   "id": "8a9dae27",
   "metadata": {},
   "source": [
    "PART A Q2"
   ]
  },
  {
   "cell_type": "code",
   "execution_count": 28,
   "id": "6fd3051a",
   "metadata": {},
   "outputs": [],
   "source": [
    "from nltk.corpus import treebank"
   ]
  },
  {
   "cell_type": "code",
   "execution_count": 29,
   "id": "e538d18c",
   "metadata": {},
   "outputs": [],
   "source": [
    "nltk_data = list(nltk.corpus.treebank.tagged_sents(tagset='universal'))"
   ]
  },
  {
   "cell_type": "code",
   "execution_count": 30,
   "id": "72142374",
   "metadata": {},
   "outputs": [],
   "source": [
    "# split data into training and validation set in the ratio 80:20\n",
    "train_set,test_set =train_test_split(nltk_data,test_size=0.20,random_state = 23)"
   ]
  },
  {
   "cell_type": "code",
   "execution_count": 31,
   "id": "734befc2",
   "metadata": {},
   "outputs": [
    {
     "name": "stdout",
     "output_type": "stream",
     "text": [
      "80605\n",
      "20071\n"
     ]
    }
   ],
   "source": [
    "train_tagged_words = [ tup for sent in train_set for tup in sent ]\n",
    "test_tagged_words = [ tup for sent in test_set for tup in sent ]\n",
    "print(len(train_tagged_words))\n",
    "print(len(test_tagged_words))"
   ]
  },
  {
   "cell_type": "code",
   "execution_count": 32,
   "id": "f9136f45",
   "metadata": {},
   "outputs": [
    {
     "name": "stdout",
     "output_type": "stream",
     "text": [
      "12\n",
      "{'X', 'VERB', 'CONJ', '.', 'ADJ', 'ADP', 'ADV', 'DET', 'PRON', 'PRT', 'NOUN', 'NUM'}\n"
     ]
    }
   ],
   "source": [
    "tags = {tag for word,tag in train_tagged_words}\n",
    "print(len(tags))\n",
    "print(tags)\n",
    " \n",
    "# check total words in vocabulary\n",
    "vocab = {word for word,tag in train_tagged_words}"
   ]
  },
  {
   "cell_type": "code",
   "execution_count": 33,
   "id": "ce86312c",
   "metadata": {},
   "outputs": [],
   "source": [
    "def word_given_tag(word, tag, train_bag = train_tagged_words):\n",
    "    tag_list = [pair for pair in train_bag if pair[1]==tag]\n",
    "    count_tag = len(tag_list)#total number of times the passed tag occurred in train_bag\n",
    "    w_given_tag_list = [pair[0] for pair in tag_list if pair[0]==word]\n",
    "#now calculate the total number of times the passed word occurred as the passed tag.\n",
    "    count_w_given_tag = len(w_given_tag_list)\n",
    " \n",
    "     \n",
    "    return (count_w_given_tag, count_tag)"
   ]
  },
  {
   "cell_type": "code",
   "execution_count": 34,
   "id": "fe8b2550",
   "metadata": {},
   "outputs": [
    {
     "name": "stdout",
     "output_type": "stream",
     "text": [
      "[[7.53193125e-02 2.06235915e-01 1.05184074e-02 1.58527419e-01\n",
      "  1.80315543e-02 1.43501133e-01 2.68595032e-02 5.61607815e-02\n",
      "  5.54094650e-02 1.83508635e-01 6.34860992e-02 2.44177319e-03]\n",
      " [2.19469681e-01 1.68547571e-01 5.78034669e-03 3.52325886e-02\n",
      "  6.39508218e-02 9.09257755e-02 8.24846327e-02 1.33681983e-01\n",
      "  3.62418555e-02 3.17460336e-02 1.10193595e-01 2.17451137e-02]\n",
      " [8.84466525e-03 1.52570486e-01 5.52791578e-04 3.53786610e-02\n",
      "  1.17744610e-01 5.63847423e-02 5.63847423e-02 1.19402982e-01\n",
      "  5.97014911e-02 6.08070754e-03 3.44941944e-01 4.20121625e-02]\n",
      " [2.79179644e-02 8.93374830e-02 5.64801879e-02 9.24514085e-02\n",
      "  4.60646413e-02 9.09481347e-02 5.21851182e-02 1.75561041e-01\n",
      "  6.82916343e-02 2.46966607e-03 2.18726516e-01 7.94588178e-02]\n",
      " [2.24258974e-02 1.15054604e-02 1.59906391e-02 6.45475835e-02\n",
      "  6.72776923e-02 7.66380653e-02 4.87519521e-03 5.65522630e-03\n",
      "  3.90015601e-04 1.15054604e-02 6.98517919e-01 2.06708275e-02]\n",
      " [3.51790711e-02 7.87401572e-03 8.89001763e-04 3.91160771e-02\n",
      "  1.07061215e-01 1.73990354e-02 1.25730252e-02 3.24485660e-01\n",
      "  6.94691390e-02 1.39700284e-03 3.21183652e-01 6.33731261e-02]\n",
      " [2.35663783e-02 3.44069123e-01 6.28436776e-03 1.37077764e-01\n",
      "  1.26472905e-01 1.19010210e-01 8.24823231e-02 6.24509044e-02\n",
      "  1.68892387e-02 1.49253728e-02 3.29929292e-02 3.37784775e-02]\n",
      " [4.57731374e-02 4.04806174e-02 5.72164194e-04 1.71649270e-02\n",
      "  2.04691753e-01 9.29766800e-03 1.20154489e-02 4.72035492e-03\n",
      "  3.57602630e-03 2.86082097e-04 6.39965653e-01 2.14561578e-02]\n",
      " [9.25346464e-02 4.86365676e-01 5.36432723e-03 3.93383987e-02\n",
      "  7.24184141e-02 2.10102815e-02 3.66562344e-02 1.02816271e-02\n",
      "  8.94054491e-03 1.29637904e-02 2.07420647e-01 6.70540892e-03]\n",
      " [1.18546849e-02 3.91969413e-01 2.67686415e-03 4.39770557e-02\n",
      "  8.52772444e-02 2.02676859e-02 9.94263869e-03 1.06309749e-01\n",
      "  1.79732312e-02 1.91204587e-03 2.50860423e-01 5.69789670e-02]\n",
      " [2.86098234e-02 1.47904113e-01 4.30014320e-02 2.38805324e-01\n",
      "  1.18774110e-02 1.76470593e-01 1.66457146e-02 1.28310723e-02\n",
      "  4.94169677e-03 4.49521020e-02 2.64207363e-01 9.75334831e-03]\n",
      " [2.08928570e-01 1.82142854e-02 1.53571432e-02 1.21428572e-01\n",
      "  3.32142860e-02 3.57142873e-02 2.14285706e-03 3.92857147e-03\n",
      "  1.78571430e-03 2.74999999e-02 3.51785719e-01 1.80000007e-01]]\n"
     ]
    }
   ],
   "source": [
    "def t2_given_t1(t2, t1, train_bag = train_tagged_words):\n",
    "    tags = [pair[1] for pair in train_bag]\n",
    "    count_t1 = len([t for t in tags if t==t1])\n",
    "    count_t2_t1 = 0\n",
    "    for index in range(len(tags)-1):\n",
    "        if tags[index]==t1 and tags[index+1] == t2:\n",
    "            count_t2_t1 += 1\n",
    "    return (count_t2_t1, count_t1)\n",
    "\n",
    "# creating t x t transition matrix of tags, t= no of tags\n",
    "# Matrix(i, j) represents P(jth tag after the ith tag)\n",
    " \n",
    "tags_matrix = np.zeros((len(tags), len(tags)), dtype='float32')\n",
    "for i, t1 in enumerate(list(tags)):\n",
    "    for j, t2 in enumerate(list(tags)): \n",
    "        tags_matrix[i, j] = t2_given_t1(t2, t1)[0]/t2_given_t1(t2, t1)[1]\n",
    " \n",
    "print(tags_matrix)"
   ]
  },
  {
   "cell_type": "code",
   "execution_count": 35,
   "id": "38080419",
   "metadata": {},
   "outputs": [
    {
     "data": {
      "text/html": [
       "<div>\n",
       "<style scoped>\n",
       "    .dataframe tbody tr th:only-of-type {\n",
       "        vertical-align: middle;\n",
       "    }\n",
       "\n",
       "    .dataframe tbody tr th {\n",
       "        vertical-align: top;\n",
       "    }\n",
       "\n",
       "    .dataframe thead th {\n",
       "        text-align: right;\n",
       "    }\n",
       "</style>\n",
       "<table border=\"1\" class=\"dataframe\">\n",
       "  <thead>\n",
       "    <tr style=\"text-align: right;\">\n",
       "      <th></th>\n",
       "      <th>X</th>\n",
       "      <th>VERB</th>\n",
       "      <th>CONJ</th>\n",
       "      <th>.</th>\n",
       "      <th>ADJ</th>\n",
       "      <th>ADP</th>\n",
       "      <th>ADV</th>\n",
       "      <th>DET</th>\n",
       "      <th>PRON</th>\n",
       "      <th>PRT</th>\n",
       "      <th>NOUN</th>\n",
       "      <th>NUM</th>\n",
       "    </tr>\n",
       "  </thead>\n",
       "  <tbody>\n",
       "    <tr>\n",
       "      <th>X</th>\n",
       "      <td>0.075319</td>\n",
       "      <td>0.206236</td>\n",
       "      <td>0.010518</td>\n",
       "      <td>0.158527</td>\n",
       "      <td>0.018032</td>\n",
       "      <td>0.143501</td>\n",
       "      <td>0.026860</td>\n",
       "      <td>0.056161</td>\n",
       "      <td>0.055409</td>\n",
       "      <td>0.183509</td>\n",
       "      <td>0.063486</td>\n",
       "      <td>0.002442</td>\n",
       "    </tr>\n",
       "    <tr>\n",
       "      <th>VERB</th>\n",
       "      <td>0.219470</td>\n",
       "      <td>0.168548</td>\n",
       "      <td>0.005780</td>\n",
       "      <td>0.035233</td>\n",
       "      <td>0.063951</td>\n",
       "      <td>0.090926</td>\n",
       "      <td>0.082485</td>\n",
       "      <td>0.133682</td>\n",
       "      <td>0.036242</td>\n",
       "      <td>0.031746</td>\n",
       "      <td>0.110194</td>\n",
       "      <td>0.021745</td>\n",
       "    </tr>\n",
       "    <tr>\n",
       "      <th>CONJ</th>\n",
       "      <td>0.008845</td>\n",
       "      <td>0.152570</td>\n",
       "      <td>0.000553</td>\n",
       "      <td>0.035379</td>\n",
       "      <td>0.117745</td>\n",
       "      <td>0.056385</td>\n",
       "      <td>0.056385</td>\n",
       "      <td>0.119403</td>\n",
       "      <td>0.059701</td>\n",
       "      <td>0.006081</td>\n",
       "      <td>0.344942</td>\n",
       "      <td>0.042012</td>\n",
       "    </tr>\n",
       "    <tr>\n",
       "      <th>.</th>\n",
       "      <td>0.027918</td>\n",
       "      <td>0.089337</td>\n",
       "      <td>0.056480</td>\n",
       "      <td>0.092451</td>\n",
       "      <td>0.046065</td>\n",
       "      <td>0.090948</td>\n",
       "      <td>0.052185</td>\n",
       "      <td>0.175561</td>\n",
       "      <td>0.068292</td>\n",
       "      <td>0.002470</td>\n",
       "      <td>0.218727</td>\n",
       "      <td>0.079459</td>\n",
       "    </tr>\n",
       "    <tr>\n",
       "      <th>ADJ</th>\n",
       "      <td>0.022426</td>\n",
       "      <td>0.011505</td>\n",
       "      <td>0.015991</td>\n",
       "      <td>0.064548</td>\n",
       "      <td>0.067278</td>\n",
       "      <td>0.076638</td>\n",
       "      <td>0.004875</td>\n",
       "      <td>0.005655</td>\n",
       "      <td>0.000390</td>\n",
       "      <td>0.011505</td>\n",
       "      <td>0.698518</td>\n",
       "      <td>0.020671</td>\n",
       "    </tr>\n",
       "    <tr>\n",
       "      <th>ADP</th>\n",
       "      <td>0.035179</td>\n",
       "      <td>0.007874</td>\n",
       "      <td>0.000889</td>\n",
       "      <td>0.039116</td>\n",
       "      <td>0.107061</td>\n",
       "      <td>0.017399</td>\n",
       "      <td>0.012573</td>\n",
       "      <td>0.324486</td>\n",
       "      <td>0.069469</td>\n",
       "      <td>0.001397</td>\n",
       "      <td>0.321184</td>\n",
       "      <td>0.063373</td>\n",
       "    </tr>\n",
       "    <tr>\n",
       "      <th>ADV</th>\n",
       "      <td>0.023566</td>\n",
       "      <td>0.344069</td>\n",
       "      <td>0.006284</td>\n",
       "      <td>0.137078</td>\n",
       "      <td>0.126473</td>\n",
       "      <td>0.119010</td>\n",
       "      <td>0.082482</td>\n",
       "      <td>0.062451</td>\n",
       "      <td>0.016889</td>\n",
       "      <td>0.014925</td>\n",
       "      <td>0.032993</td>\n",
       "      <td>0.033778</td>\n",
       "    </tr>\n",
       "    <tr>\n",
       "      <th>DET</th>\n",
       "      <td>0.045773</td>\n",
       "      <td>0.040481</td>\n",
       "      <td>0.000572</td>\n",
       "      <td>0.017165</td>\n",
       "      <td>0.204692</td>\n",
       "      <td>0.009298</td>\n",
       "      <td>0.012015</td>\n",
       "      <td>0.004720</td>\n",
       "      <td>0.003576</td>\n",
       "      <td>0.000286</td>\n",
       "      <td>0.639966</td>\n",
       "      <td>0.021456</td>\n",
       "    </tr>\n",
       "    <tr>\n",
       "      <th>PRON</th>\n",
       "      <td>0.092535</td>\n",
       "      <td>0.486366</td>\n",
       "      <td>0.005364</td>\n",
       "      <td>0.039338</td>\n",
       "      <td>0.072418</td>\n",
       "      <td>0.021010</td>\n",
       "      <td>0.036656</td>\n",
       "      <td>0.010282</td>\n",
       "      <td>0.008941</td>\n",
       "      <td>0.012964</td>\n",
       "      <td>0.207421</td>\n",
       "      <td>0.006705</td>\n",
       "    </tr>\n",
       "    <tr>\n",
       "      <th>PRT</th>\n",
       "      <td>0.011855</td>\n",
       "      <td>0.391969</td>\n",
       "      <td>0.002677</td>\n",
       "      <td>0.043977</td>\n",
       "      <td>0.085277</td>\n",
       "      <td>0.020268</td>\n",
       "      <td>0.009943</td>\n",
       "      <td>0.106310</td>\n",
       "      <td>0.017973</td>\n",
       "      <td>0.001912</td>\n",
       "      <td>0.250860</td>\n",
       "      <td>0.056979</td>\n",
       "    </tr>\n",
       "    <tr>\n",
       "      <th>NOUN</th>\n",
       "      <td>0.028610</td>\n",
       "      <td>0.147904</td>\n",
       "      <td>0.043001</td>\n",
       "      <td>0.238805</td>\n",
       "      <td>0.011877</td>\n",
       "      <td>0.176471</td>\n",
       "      <td>0.016646</td>\n",
       "      <td>0.012831</td>\n",
       "      <td>0.004942</td>\n",
       "      <td>0.044952</td>\n",
       "      <td>0.264207</td>\n",
       "      <td>0.009753</td>\n",
       "    </tr>\n",
       "    <tr>\n",
       "      <th>NUM</th>\n",
       "      <td>0.208929</td>\n",
       "      <td>0.018214</td>\n",
       "      <td>0.015357</td>\n",
       "      <td>0.121429</td>\n",
       "      <td>0.033214</td>\n",
       "      <td>0.035714</td>\n",
       "      <td>0.002143</td>\n",
       "      <td>0.003929</td>\n",
       "      <td>0.001786</td>\n",
       "      <td>0.027500</td>\n",
       "      <td>0.351786</td>\n",
       "      <td>0.180000</td>\n",
       "    </tr>\n",
       "  </tbody>\n",
       "</table>\n",
       "</div>"
      ],
      "text/plain": [
       "             X      VERB      CONJ         .       ADJ       ADP       ADV  \\\n",
       "X     0.075319  0.206236  0.010518  0.158527  0.018032  0.143501  0.026860   \n",
       "VERB  0.219470  0.168548  0.005780  0.035233  0.063951  0.090926  0.082485   \n",
       "CONJ  0.008845  0.152570  0.000553  0.035379  0.117745  0.056385  0.056385   \n",
       ".     0.027918  0.089337  0.056480  0.092451  0.046065  0.090948  0.052185   \n",
       "ADJ   0.022426  0.011505  0.015991  0.064548  0.067278  0.076638  0.004875   \n",
       "ADP   0.035179  0.007874  0.000889  0.039116  0.107061  0.017399  0.012573   \n",
       "ADV   0.023566  0.344069  0.006284  0.137078  0.126473  0.119010  0.082482   \n",
       "DET   0.045773  0.040481  0.000572  0.017165  0.204692  0.009298  0.012015   \n",
       "PRON  0.092535  0.486366  0.005364  0.039338  0.072418  0.021010  0.036656   \n",
       "PRT   0.011855  0.391969  0.002677  0.043977  0.085277  0.020268  0.009943   \n",
       "NOUN  0.028610  0.147904  0.043001  0.238805  0.011877  0.176471  0.016646   \n",
       "NUM   0.208929  0.018214  0.015357  0.121429  0.033214  0.035714  0.002143   \n",
       "\n",
       "           DET      PRON       PRT      NOUN       NUM  \n",
       "X     0.056161  0.055409  0.183509  0.063486  0.002442  \n",
       "VERB  0.133682  0.036242  0.031746  0.110194  0.021745  \n",
       "CONJ  0.119403  0.059701  0.006081  0.344942  0.042012  \n",
       ".     0.175561  0.068292  0.002470  0.218727  0.079459  \n",
       "ADJ   0.005655  0.000390  0.011505  0.698518  0.020671  \n",
       "ADP   0.324486  0.069469  0.001397  0.321184  0.063373  \n",
       "ADV   0.062451  0.016889  0.014925  0.032993  0.033778  \n",
       "DET   0.004720  0.003576  0.000286  0.639966  0.021456  \n",
       "PRON  0.010282  0.008941  0.012964  0.207421  0.006705  \n",
       "PRT   0.106310  0.017973  0.001912  0.250860  0.056979  \n",
       "NOUN  0.012831  0.004942  0.044952  0.264207  0.009753  \n",
       "NUM   0.003929  0.001786  0.027500  0.351786  0.180000  "
      ]
     },
     "metadata": {},
     "output_type": "display_data"
    }
   ],
   "source": [
    "tags_df = pd.DataFrame(tags_matrix, columns = list(tags), index=list(tags))\n",
    "display(tags_df)"
   ]
  },
  {
   "cell_type": "code",
   "execution_count": 36,
   "id": "f1690115",
   "metadata": {},
   "outputs": [],
   "source": [
    "def Viterbi(words, train_bag = train_tagged_words):\n",
    "    state = []\n",
    "    T = list(set([pair[1] for pair in train_bag]))\n",
    "     \n",
    "    for key, word in enumerate(words):\n",
    "        #initialise list of probability column for a given observation\n",
    "        p = [] \n",
    "        for tag in T:\n",
    "            if key == 0:\n",
    "                transition_p = tags_df.loc['.', tag]\n",
    "            else:\n",
    "                transition_p = tags_df.loc[state[-1], tag]\n",
    "                 \n",
    "            # compute emission and state probabilities\n",
    "            emission_p = word_given_tag(words[key], tag)[0]/word_given_tag(words[key], tag)[1]\n",
    "            state_probability = emission_p * transition_p    \n",
    "            p.append(state_probability)\n",
    "             \n",
    "        pmax = max(p)\n",
    "        # getting state for which probability is maximum\n",
    "        state_max = T[p.index(pmax)] \n",
    "        state.append(state_max)\n",
    "    return list(zip(words, state))"
   ]
  },
  {
   "cell_type": "code",
   "execution_count": null,
   "id": "eda5edc7",
   "metadata": {},
   "outputs": [],
   "source": [
    "tagged_seq = Viterbi(test_tagged_words)\n",
    "# accuracy\n",
    "check = [i for i, j in zip(tagged_seq, test_run_base) if i == j] \n",
    "accuracy = len(check)/len(tagged_seq)\n",
    "print('Viterbi Algorithm Accuracy: ',accuracy*100)"
   ]
  },
  {
   "cell_type": "code",
   "execution_count": null,
   "id": "cf5d8b9e",
   "metadata": {},
   "outputs": [],
   "source": [
    "tagged_seq[3][1]"
   ]
  },
  {
   "cell_type": "code",
   "execution_count": null,
   "id": "e93d0647",
   "metadata": {},
   "outputs": [],
   "source": [
    "y_test1=[]\n",
    "y_pred1=[]\n",
    "for i in range(0,len(tagged_seq)):\n",
    "    y_pred1.append(tagged_seq[i][1])\n",
    "    \n",
    "for i in range(0,len(test_run_base)):\n",
    "    y_test1.append(test_run_base[i][1])"
   ]
  },
  {
   "cell_type": "code",
   "execution_count": null,
   "id": "40ee6e58",
   "metadata": {},
   "outputs": [],
   "source": [
    "from sklearn import preprocessing\n",
    "le = preprocessing.LabelEncoder()\n",
    "y_test1=le.fit_transform(y_test1)\n",
    "y_pred1=le.transform(y_pred1)"
   ]
  },
  {
   "cell_type": "code",
   "execution_count": null,
   "id": "e5ad8669",
   "metadata": {},
   "outputs": [],
   "source": [
    "accuracy_score(y_test1, y_pred1)"
   ]
  },
  {
   "cell_type": "code",
   "execution_count": null,
   "id": "31aeb80a",
   "metadata": {},
   "outputs": [],
   "source": [
    "recall = recall_score(y_test1, y_pred1,pos_label='positive',average='micro')\n",
    "print(\"Recall Score : \",recall)"
   ]
  },
  {
   "cell_type": "code",
   "execution_count": null,
   "id": "6accf1e7",
   "metadata": {},
   "outputs": [],
   "source": [
    "precision = precision_score(y_test1, y_pred1,pos_label='positive',average='micro')\n",
    "print(\"Recall Score : \",precision)"
   ]
  },
  {
   "cell_type": "code",
   "execution_count": null,
   "id": "c84bf70a",
   "metadata": {},
   "outputs": [],
   "source": [
    "conf_mat = confusion_matrix(y_test1, y_pred1)\n",
    "conf_mat_normalized = conf_mat.astype('float') / conf_mat.sum(axis=1)[:, np.newaxis]"
   ]
  },
  {
   "cell_type": "code",
   "execution_count": null,
   "id": "e56a54e4",
   "metadata": {},
   "outputs": [],
   "source": [
    "sns.heatmap(conf_mat_normalized)\n",
    "plt.ylabel('True label')\n",
    "plt.xlabel('Predicted label')"
   ]
  },
  {
   "cell_type": "code",
   "execution_count": null,
   "id": "b76f4c15",
   "metadata": {},
   "outputs": [],
   "source": [
    "print(conf_mat)"
   ]
  },
  {
   "cell_type": "code",
   "execution_count": null,
   "id": "b15039e8",
   "metadata": {},
   "outputs": [],
   "source": [
    "print(classification_report(y_test1, y_pred1))"
   ]
  },
  {
   "cell_type": "code",
   "execution_count": null,
   "id": "859039df",
   "metadata": {},
   "outputs": [],
   "source": []
  }
 ],
 "metadata": {
  "kernelspec": {
   "display_name": "Python 3 (ipykernel)",
   "language": "python",
   "name": "python3"
  },
  "language_info": {
   "codemirror_mode": {
    "name": "ipython",
    "version": 3
   },
   "file_extension": ".py",
   "mimetype": "text/x-python",
   "name": "python",
   "nbconvert_exporter": "python",
   "pygments_lexer": "ipython3",
   "version": "3.9.7"
  }
 },
 "nbformat": 4,
 "nbformat_minor": 5
}
