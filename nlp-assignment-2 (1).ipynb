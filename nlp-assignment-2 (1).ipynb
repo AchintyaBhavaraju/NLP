{
 "cells": [
  {
   "cell_type": "code",
   "execution_count": 34,
   "metadata": {
    "_cell_guid": "b1076dfc-b9ad-4769-8c92-a6c4dae69d19",
    "_uuid": "8f2839f25d086af736a60e9eeb907d3b93b6e0e5",
    "execution": {
     "iopub.execute_input": "2022-12-13T04:49:06.216167Z",
     "iopub.status.busy": "2022-12-13T04:49:06.215275Z",
     "iopub.status.idle": "2022-12-13T04:49:06.240209Z",
     "shell.execute_reply": "2022-12-13T04:49:06.239151Z",
     "shell.execute_reply.started": "2022-12-13T04:49:06.216030Z"
    }
   },
   "outputs": [],
   "source": [
    "import numpy as np \n",
    "import pandas as pd\n",
    "import os"
   ]
  },
  {
   "cell_type": "code",
   "execution_count": 37,
   "metadata": {
    "execution": {
     "iopub.execute_input": "2022-12-13T04:49:06.243375Z",
     "iopub.status.busy": "2022-12-13T04:49:06.242675Z",
     "iopub.status.idle": "2022-12-13T04:49:06.319898Z",
     "shell.execute_reply": "2022-12-13T04:49:06.318447Z",
     "shell.execute_reply.started": "2022-12-13T04:49:06.243336Z"
    }
   },
   "outputs": [
    {
     "data": {
      "text/html": [
       "<div>\n",
       "<style scoped>\n",
       "    .dataframe tbody tr th:only-of-type {\n",
       "        vertical-align: middle;\n",
       "    }\n",
       "\n",
       "    .dataframe tbody tr th {\n",
       "        vertical-align: top;\n",
       "    }\n",
       "\n",
       "    .dataframe thead th {\n",
       "        text-align: right;\n",
       "    }\n",
       "</style>\n",
       "<table border=\"1\" class=\"dataframe\">\n",
       "  <thead>\n",
       "    <tr style=\"text-align: right;\">\n",
       "      <th></th>\n",
       "      <th>Category</th>\n",
       "      <th>Message</th>\n",
       "    </tr>\n",
       "  </thead>\n",
       "  <tbody>\n",
       "    <tr>\n",
       "      <th>0</th>\n",
       "      <td>ham</td>\n",
       "      <td>Go until jurong point, crazy.. Available only ...</td>\n",
       "    </tr>\n",
       "    <tr>\n",
       "      <th>1</th>\n",
       "      <td>ham</td>\n",
       "      <td>Ok lar... Joking wif u oni...</td>\n",
       "    </tr>\n",
       "    <tr>\n",
       "      <th>2</th>\n",
       "      <td>spam</td>\n",
       "      <td>Free entry in 2 a wkly comp to win FA Cup fina...</td>\n",
       "    </tr>\n",
       "    <tr>\n",
       "      <th>3</th>\n",
       "      <td>ham</td>\n",
       "      <td>U dun say so early hor... U c already then say...</td>\n",
       "    </tr>\n",
       "    <tr>\n",
       "      <th>4</th>\n",
       "      <td>ham</td>\n",
       "      <td>Nah I don't think he goes to usf, he lives aro...</td>\n",
       "    </tr>\n",
       "  </tbody>\n",
       "</table>\n",
       "</div>"
      ],
      "text/plain": [
       "  Category                                            Message\n",
       "0      ham  Go until jurong point, crazy.. Available only ...\n",
       "1      ham                      Ok lar... Joking wif u oni...\n",
       "2     spam  Free entry in 2 a wkly comp to win FA Cup fina...\n",
       "3      ham  U dun say so early hor... U c already then say...\n",
       "4      ham  Nah I don't think he goes to usf, he lives aro..."
      ]
     },
     "execution_count": 37,
     "metadata": {},
     "output_type": "execute_result"
    }
   ],
   "source": [
    "df=pd.read_csv(r'D:\\OneDrive\\Desktop\\Spam_texts.csv')\n",
    "df.head()"
   ]
  },
  {
   "cell_type": "code",
   "execution_count": 43,
   "metadata": {
    "execution": {
     "iopub.execute_input": "2022-12-13T04:49:06.321959Z",
     "iopub.status.busy": "2022-12-13T04:49:06.321578Z",
     "iopub.status.idle": "2022-12-13T04:49:06.335731Z",
     "shell.execute_reply": "2022-12-13T04:49:06.334461Z",
     "shell.execute_reply.started": "2022-12-13T04:49:06.321925Z"
    }
   },
   "outputs": [
    {
     "data": {
      "text/plain": [
       "Sorry, I'll call later                                                                                                                                      30\n",
       "I cant pick the phone right now. Pls send a message                                                                                                         12\n",
       "Ok...                                                                                                                                                       10\n",
       "Ok                                                                                                                                                           4\n",
       "Ok.                                                                                                                                                          4\n",
       "                                                                                                                                                            ..\n",
       "I gotta collect da car at 6 lei.                                                                                                                             1\n",
       "No. On the way home. So if not for the long dry spell the season would have been over                                                                        1\n",
       "Urgent! Please call 09061743811 from landline. Your ABTA complimentary 4* Tenerife Holiday or £5000 cash await collection SAE T&Cs Box 326 CW25WX 150ppm     1\n",
       "I think asking for a gym is the excuse for lazy people. I jog.                                                                                               1\n",
       "Rofl. Its true to its name                                                                                                                                   1\n",
       "Name: Message, Length: 5157, dtype: int64"
      ]
     },
     "execution_count": 43,
     "metadata": {},
     "output_type": "execute_result"
    }
   ],
   "source": [
    "df['Message'].value_counts()"
   ]
  },
  {
   "cell_type": "code",
   "execution_count": 44,
   "metadata": {
    "execution": {
     "iopub.execute_input": "2022-12-13T04:49:06.339033Z",
     "iopub.status.busy": "2022-12-13T04:49:06.338619Z",
     "iopub.status.idle": "2022-12-13T04:49:07.858592Z",
     "shell.execute_reply": "2022-12-13T04:49:07.857346Z",
     "shell.execute_reply.started": "2022-12-13T04:49:06.338999Z"
    }
   },
   "outputs": [],
   "source": [
    "import nltk\n",
    "from nltk.corpus import stopwords\n",
    "from nltk.stem import PorterStemmer\n",
    "import re"
   ]
  },
  {
   "cell_type": "code",
   "execution_count": 45,
   "metadata": {
    "execution": {
     "iopub.execute_input": "2022-12-13T04:49:07.860714Z",
     "iopub.status.busy": "2022-12-13T04:49:07.860016Z",
     "iopub.status.idle": "2022-12-13T04:49:08.152859Z",
     "shell.execute_reply": "2022-12-13T04:49:08.151707Z",
     "shell.execute_reply.started": "2022-12-13T04:49:07.860676Z"
    }
   },
   "outputs": [
    {
     "name": "stdout",
     "output_type": "stream",
     "text": [
      "['i', 'me', 'my', 'myself', 'we']\n"
     ]
    },
    {
     "name": "stderr",
     "output_type": "stream",
     "text": [
      "[nltk_data] Downloading package stopwords to\n",
      "[nltk_data]     C:\\Users\\achin\\AppData\\Roaming\\nltk_data...\n",
      "[nltk_data]   Package stopwords is already up-to-date!\n"
     ]
    }
   ],
   "source": [
    "nltk.download(\"stopwords\")\n",
    "STOPWORDS = stopwords.words(\"english\")\n",
    "print (STOPWORDS[:5])\n",
    "porter = PorterStemmer()"
   ]
  },
  {
   "cell_type": "code",
   "execution_count": 49,
   "metadata": {
    "execution": {
     "iopub.execute_input": "2022-12-13T04:49:08.154563Z",
     "iopub.status.busy": "2022-12-13T04:49:08.154207Z",
     "iopub.status.idle": "2022-12-13T04:49:11.227905Z",
     "shell.execute_reply": "2022-12-13T04:49:11.226560Z",
     "shell.execute_reply.started": "2022-12-13T04:49:08.154532Z"
    }
   },
   "outputs": [
    {
     "ename": "NameError",
     "evalue": "name 'data' is not defined",
     "output_type": "error",
     "traceback": [
      "\u001b[1;31m---------------------------------------------------------------------------\u001b[0m",
      "\u001b[1;31mNameError\u001b[0m                                 Traceback (most recent call last)",
      "\u001b[1;32m~\\AppData\\Local\\Temp/ipykernel_8396/189337799.py\u001b[0m in \u001b[0;36m<module>\u001b[1;34m\u001b[0m\n\u001b[1;32m----> 1\u001b[1;33m \u001b[0mtokenized_messages\u001b[0m \u001b[1;33m=\u001b[0m \u001b[0mdata\u001b[0m\u001b[1;33m[\u001b[0m\u001b[1;34m'Message'\u001b[0m\u001b[1;33m]\u001b[0m\u001b[1;33m.\u001b[0m\u001b[0mstr\u001b[0m\u001b[1;33m.\u001b[0m\u001b[0mlower\u001b[0m\u001b[1;33m(\u001b[0m\u001b[1;33m)\u001b[0m\u001b[1;33m.\u001b[0m\u001b[0mapply\u001b[0m\u001b[1;33m(\u001b[0m\u001b[0mword_tokenize\u001b[0m\u001b[1;33m)\u001b[0m\u001b[1;33m\u001b[0m\u001b[1;33m\u001b[0m\u001b[0m\n\u001b[0m\u001b[0;32m      2\u001b[0m \u001b[1;33m\u001b[0m\u001b[0m\n\u001b[0;32m      3\u001b[0m \u001b[1;31m# Print the tokens to see how it looks like\u001b[0m\u001b[1;33m\u001b[0m\u001b[1;33m\u001b[0m\u001b[0m\n\u001b[0;32m      4\u001b[0m \u001b[0mprint\u001b[0m\u001b[1;33m(\u001b[0m\u001b[0mtokenized_messages\u001b[0m\u001b[1;33m)\u001b[0m\u001b[1;33m\u001b[0m\u001b[1;33m\u001b[0m\u001b[0m\n\u001b[0;32m      5\u001b[0m \u001b[1;33m\u001b[0m\u001b[0m\n",
      "\u001b[1;31mNameError\u001b[0m: name 'data' is not defined"
     ]
    }
   ],
   "source": [
    "tokenized_messages = data['Message'].str.lower().apply(word_tokenize)\n",
    "\n",
    "# Print the tokens to see how it looks like\n",
    "print(tokenized_messages)\n",
    "\n",
    "def alpha(tokens):\n",
    "    \"\"\"This function removes all non-alphanumeric characters\"\"\"\n",
    "    alpha = []\n",
    "    for token in tokens:\n",
    "        if str.isalpha(token) or token in ['n\\'t','won\\'t']:\n",
    "            if token=='n\\'t':\n",
    "                alpha.append('not')\n",
    "                continue\n",
    "            elif token == 'won\\'t':\n",
    "                alpha.append('wont')\n",
    "                continue\n",
    "            alpha.append(token)\n",
    "    return alpha\n",
    "\n",
    "# Apply our function to tokens\n",
    "tokenized_messages = tokenized_messages.apply(alpha)\n",
    "\n",
    "print(tokenized_messages)"
   ]
  },
  {
   "cell_type": "code",
   "execution_count": 9,
   "metadata": {
    "execution": {
     "iopub.execute_input": "2022-12-13T04:49:11.230295Z",
     "iopub.status.busy": "2022-12-13T04:49:11.229746Z",
     "iopub.status.idle": "2022-12-13T04:49:11.245351Z",
     "shell.execute_reply": "2022-12-13T04:49:11.244102Z",
     "shell.execute_reply.started": "2022-12-13T04:49:11.230243Z"
    }
   },
   "outputs": [
    {
     "data": {
      "text/html": [
       "<div>\n",
       "<style scoped>\n",
       "    .dataframe tbody tr th:only-of-type {\n",
       "        vertical-align: middle;\n",
       "    }\n",
       "\n",
       "    .dataframe tbody tr th {\n",
       "        vertical-align: top;\n",
       "    }\n",
       "\n",
       "    .dataframe thead th {\n",
       "        text-align: right;\n",
       "    }\n",
       "</style>\n",
       "<table border=\"1\" class=\"dataframe\">\n",
       "  <thead>\n",
       "    <tr style=\"text-align: right;\">\n",
       "      <th></th>\n",
       "      <th>id</th>\n",
       "      <th>keyword</th>\n",
       "      <th>location</th>\n",
       "      <th>text</th>\n",
       "      <th>target</th>\n",
       "    </tr>\n",
       "  </thead>\n",
       "  <tbody>\n",
       "    <tr>\n",
       "      <th>0</th>\n",
       "      <td>1</td>\n",
       "      <td>NaN</td>\n",
       "      <td>NaN</td>\n",
       "      <td>our deeds are the reason of this earthquake ma...</td>\n",
       "      <td>1</td>\n",
       "    </tr>\n",
       "    <tr>\n",
       "      <th>1</th>\n",
       "      <td>4</td>\n",
       "      <td>NaN</td>\n",
       "      <td>NaN</td>\n",
       "      <td>forest fire near la ronge sask canada</td>\n",
       "      <td>1</td>\n",
       "    </tr>\n",
       "    <tr>\n",
       "      <th>2</th>\n",
       "      <td>5</td>\n",
       "      <td>NaN</td>\n",
       "      <td>NaN</td>\n",
       "      <td>all residents asked to shelter in place are be...</td>\n",
       "      <td>1</td>\n",
       "    </tr>\n",
       "    <tr>\n",
       "      <th>3</th>\n",
       "      <td>6</td>\n",
       "      <td>NaN</td>\n",
       "      <td>NaN</td>\n",
       "      <td>13 000 people receive wildfires evacuation ord...</td>\n",
       "      <td>1</td>\n",
       "    </tr>\n",
       "    <tr>\n",
       "      <th>4</th>\n",
       "      <td>7</td>\n",
       "      <td>NaN</td>\n",
       "      <td>NaN</td>\n",
       "      <td>just got sent this photo from ruby alaska as s...</td>\n",
       "      <td>1</td>\n",
       "    </tr>\n",
       "  </tbody>\n",
       "</table>\n",
       "</div>"
      ],
      "text/plain": [
       "   id keyword location                                               text  \\\n",
       "0   1     NaN      NaN  our deeds are the reason of this earthquake ma...   \n",
       "1   4     NaN      NaN              forest fire near la ronge sask canada   \n",
       "2   5     NaN      NaN  all residents asked to shelter in place are be...   \n",
       "3   6     NaN      NaN  13 000 people receive wildfires evacuation ord...   \n",
       "4   7     NaN      NaN  just got sent this photo from ruby alaska as s...   \n",
       "\n",
       "   target  \n",
       "0       1  \n",
       "1       1  \n",
       "2       1  \n",
       "3       1  \n",
       "4       1  "
      ]
     },
     "execution_count": 9,
     "metadata": {},
     "output_type": "execute_result"
    }
   ],
   "source": [
    "df.head()"
   ]
  },
  {
   "cell_type": "code",
   "execution_count": 10,
   "metadata": {
    "execution": {
     "iopub.execute_input": "2022-12-13T04:51:56.572833Z",
     "iopub.status.busy": "2022-12-13T04:51:56.571774Z",
     "iopub.status.idle": "2022-12-13T04:51:57.244613Z",
     "shell.execute_reply": "2022-12-13T04:51:57.243582Z",
     "shell.execute_reply.started": "2022-12-13T04:51:56.572793Z"
    }
   },
   "outputs": [
    {
     "ename": "AttributeError",
     "evalue": "'TfidfVectorizer' object has no attribute 'get_feature_names_out'",
     "output_type": "error",
     "traceback": [
      "\u001b[1;31m---------------------------------------------------------------------------\u001b[0m",
      "\u001b[1;31mAttributeError\u001b[0m                            Traceback (most recent call last)",
      "\u001b[1;32m~\\AppData\\Local\\Temp/ipykernel_8396/426568238.py\u001b[0m in \u001b[0;36m<module>\u001b[1;34m\u001b[0m\n\u001b[0;32m      2\u001b[0m \u001b[0mvectorizer\u001b[0m \u001b[1;33m=\u001b[0m \u001b[0mTfidfVectorizer\u001b[0m\u001b[1;33m(\u001b[0m\u001b[0mngram_range\u001b[0m\u001b[1;33m=\u001b[0m\u001b[1;33m(\u001b[0m\u001b[1;36m1\u001b[0m\u001b[1;33m,\u001b[0m\u001b[1;36m2\u001b[0m\u001b[1;33m)\u001b[0m\u001b[1;33m)\u001b[0m\u001b[1;33m\u001b[0m\u001b[1;33m\u001b[0m\u001b[0m\n\u001b[0;32m      3\u001b[0m \u001b[0mx\u001b[0m \u001b[1;33m=\u001b[0m \u001b[0mvectorizer\u001b[0m\u001b[1;33m.\u001b[0m\u001b[0mfit_transform\u001b[0m\u001b[1;33m(\u001b[0m\u001b[0mdf\u001b[0m\u001b[1;33m[\u001b[0m\u001b[1;34m'text'\u001b[0m\u001b[1;33m]\u001b[0m\u001b[1;33m)\u001b[0m\u001b[1;33m\u001b[0m\u001b[1;33m\u001b[0m\u001b[0m\n\u001b[1;32m----> 4\u001b[1;33m \u001b[0mvectorizer\u001b[0m\u001b[1;33m.\u001b[0m\u001b[0mget_feature_names_out\u001b[0m\u001b[1;33m(\u001b[0m\u001b[1;33m)\u001b[0m\u001b[1;33m\u001b[0m\u001b[1;33m\u001b[0m\u001b[0m\n\u001b[0m",
      "\u001b[1;31mAttributeError\u001b[0m: 'TfidfVectorizer' object has no attribute 'get_feature_names_out'"
     ]
    }
   ],
   "source": [
    "from sklearn.feature_extraction.text import TfidfVectorizer\n",
    "vectorizer = TfidfVectorizer(ngram_range=(1,2))\n",
    "x = vectorizer.fit_transform(df['text'])\n",
    "vectorizer.get_feature_names_out()"
   ]
  },
  {
   "cell_type": "code",
   "execution_count": 14,
   "metadata": {
    "execution": {
     "iopub.execute_input": "2022-12-13T04:53:28.624582Z",
     "iopub.status.busy": "2022-12-13T04:53:28.624063Z",
     "iopub.status.idle": "2022-12-13T04:53:28.635146Z",
     "shell.execute_reply": "2022-12-13T04:53:28.633802Z",
     "shell.execute_reply.started": "2022-12-13T04:53:28.624537Z"
    }
   },
   "outputs": [],
   "source": [
    "from sklearn.model_selection import train_test_split\n",
    "x_train, x_test, y_train, y_test = train_test_split(\n",
    "    x, df['target'], test_size=0.3, random_state=42)"
   ]
  },
  {
   "cell_type": "code",
   "execution_count": 15,
   "metadata": {
    "execution": {
     "iopub.execute_input": "2022-12-13T04:54:39.459785Z",
     "iopub.status.busy": "2022-12-13T04:54:39.459363Z",
     "iopub.status.idle": "2022-12-13T04:54:39.481274Z",
     "shell.execute_reply": "2022-12-13T04:54:39.480149Z",
     "shell.execute_reply.started": "2022-12-13T04:54:39.459751Z"
    }
   },
   "outputs": [
    {
     "data": {
      "text/plain": [
       "MultinomialNB()"
      ]
     },
     "execution_count": 15,
     "metadata": {},
     "output_type": "execute_result"
    }
   ],
   "source": [
    "from sklearn.naive_bayes import MultinomialNB\n",
    "clf = MultinomialNB()\n",
    "clf.fit(x_train,y_train)"
   ]
  },
  {
   "cell_type": "code",
   "execution_count": 16,
   "metadata": {
    "execution": {
     "iopub.execute_input": "2022-12-13T04:54:54.218101Z",
     "iopub.status.busy": "2022-12-13T04:54:54.217685Z",
     "iopub.status.idle": "2022-12-13T04:54:54.225741Z",
     "shell.execute_reply": "2022-12-13T04:54:54.224348Z",
     "shell.execute_reply.started": "2022-12-13T04:54:54.218067Z"
    }
   },
   "outputs": [],
   "source": [
    "y_pred=clf.predict(x_test)"
   ]
  },
  {
   "cell_type": "code",
   "execution_count": 17,
   "metadata": {
    "execution": {
     "iopub.execute_input": "2022-12-13T05:16:20.733354Z",
     "iopub.status.busy": "2022-12-13T05:16:20.732857Z",
     "iopub.status.idle": "2022-12-13T05:16:20.743188Z",
     "shell.execute_reply": "2022-12-13T05:16:20.741698Z",
     "shell.execute_reply.started": "2022-12-13T05:16:20.733310Z"
    }
   },
   "outputs": [
    {
     "data": {
      "text/plain": [
       "0.7880910683012259"
      ]
     },
     "execution_count": 17,
     "metadata": {},
     "output_type": "execute_result"
    }
   ],
   "source": [
    "from sklearn.metrics import accuracy_score\n",
    "accuracy_score(y_test, y_pred)\n"
   ]
  },
  {
   "cell_type": "code",
   "execution_count": 18,
   "metadata": {
    "execution": {
     "iopub.execute_input": "2022-12-13T04:56:28.898861Z",
     "iopub.status.busy": "2022-12-13T04:56:28.898086Z",
     "iopub.status.idle": "2022-12-13T04:56:28.917827Z",
     "shell.execute_reply": "2022-12-13T04:56:28.916559Z",
     "shell.execute_reply.started": "2022-12-13T04:56:28.898812Z"
    }
   },
   "outputs": [
    {
     "name": "stdout",
     "output_type": "stream",
     "text": [
      "              precision    recall  f1-score   support\n",
      "\n",
      "           0       0.75      0.95      0.84      1318\n",
      "           1       0.89      0.57      0.70       966\n",
      "\n",
      "    accuracy                           0.79      2284\n",
      "   macro avg       0.82      0.76      0.77      2284\n",
      "weighted avg       0.81      0.79      0.78      2284\n",
      "\n"
     ]
    }
   ],
   "source": [
    "from sklearn.metrics import classification_report\n",
    "print(classification_report(y_test, y_pred))"
   ]
  },
  {
   "cell_type": "code",
   "execution_count": 19,
   "metadata": {
    "execution": {
     "iopub.execute_input": "2022-12-13T05:17:29.563167Z",
     "iopub.status.busy": "2022-12-13T05:17:29.562674Z",
     "iopub.status.idle": "2022-12-13T05:17:29.572812Z",
     "shell.execute_reply": "2022-12-13T05:17:29.571458Z",
     "shell.execute_reply.started": "2022-12-13T05:17:29.563125Z"
    }
   },
   "outputs": [
    {
     "data": {
      "text/plain": [
       "array([[1247,   71],\n",
       "       [ 413,  553]], dtype=int64)"
      ]
     },
     "execution_count": 19,
     "metadata": {},
     "output_type": "execute_result"
    }
   ],
   "source": [
    "from sklearn.metrics import confusion_matrix\n",
    "confusion_matrix(y_test,y_pred)"
   ]
  },
  {
   "cell_type": "code",
   "execution_count": 20,
   "metadata": {
    "execution": {
     "iopub.execute_input": "2022-12-13T05:24:00.167093Z",
     "iopub.status.busy": "2022-12-13T05:24:00.166631Z",
     "iopub.status.idle": "2022-12-13T05:24:03.510358Z",
     "shell.execute_reply": "2022-12-13T05:24:03.509183Z",
     "shell.execute_reply.started": "2022-12-13T05:24:00.167039Z"
    }
   },
   "outputs": [
    {
     "name": "stderr",
     "output_type": "stream",
     "text": [
      "[nltk_data] Downloading package treebank to\n",
      "[nltk_data]     C:\\Users\\achin\\AppData\\Roaming\\nltk_data...\n",
      "[nltk_data]   Unzipping corpora\\treebank.zip.\n",
      "[nltk_data] Downloading package universal_tagset to\n",
      "[nltk_data]     C:\\Users\\achin\\AppData\\Roaming\\nltk_data...\n",
      "[nltk_data]   Unzipping taggers\\universal_tagset.zip.\n"
     ]
    },
    {
     "name": "stdout",
     "output_type": "stream",
     "text": [
      "[[('Pierre', 'NOUN'), ('Vinken', 'NOUN'), (',', '.'), ('61', 'NUM'), ('years', 'NOUN'), ('old', 'ADJ'), (',', '.'), ('will', 'VERB'), ('join', 'VERB'), ('the', 'DET'), ('board', 'NOUN'), ('as', 'ADP'), ('a', 'DET'), ('nonexecutive', 'ADJ'), ('director', 'NOUN'), ('Nov.', 'NOUN'), ('29', 'NUM'), ('.', '.')], [('Mr.', 'NOUN'), ('Vinken', 'NOUN'), ('is', 'VERB'), ('chairman', 'NOUN'), ('of', 'ADP'), ('Elsevier', 'NOUN'), ('N.V.', 'NOUN'), (',', '.'), ('the', 'DET'), ('Dutch', 'NOUN'), ('publishing', 'VERB'), ('group', 'NOUN'), ('.', '.')]]\n"
     ]
    }
   ],
   "source": [
    "import random\n",
    "import pprint, time\n",
    " \n",
    "#download the treebank corpus from nltk\n",
    "nltk.download('treebank')\n",
    " \n",
    "#download the universal tagset from nltk\n",
    "nltk.download('universal_tagset')\n",
    " \n",
    "# reading the Treebank tagged sentences\n",
    "nltk_data = list(nltk.corpus.treebank.tagged_sents(tagset='universal'))\n",
    " \n",
    "#print the first two sentences along with tags\n",
    "print(nltk_data[:2])"
   ]
  },
  {
   "cell_type": "code",
   "execution_count": 21,
   "metadata": {
    "execution": {
     "iopub.execute_input": "2022-12-13T05:24:49.316003Z",
     "iopub.status.busy": "2022-12-13T05:24:49.314758Z",
     "iopub.status.idle": "2022-12-13T05:24:49.324064Z",
     "shell.execute_reply": "2022-12-13T05:24:49.323149Z",
     "shell.execute_reply.started": "2022-12-13T05:24:49.315950Z"
    }
   },
   "outputs": [],
   "source": [
    "# split data into training and validation set in the ratio 80:20\n",
    "train_set,test_set =train_test_split(nltk_data,test_size=0.20,random_state = 101)"
   ]
  },
  {
   "cell_type": "code",
   "execution_count": 22,
   "metadata": {
    "execution": {
     "iopub.execute_input": "2022-12-13T05:25:00.638243Z",
     "iopub.status.busy": "2022-12-13T05:25:00.637033Z",
     "iopub.status.idle": "2022-12-13T05:25:00.661740Z",
     "shell.execute_reply": "2022-12-13T05:25:00.659925Z",
     "shell.execute_reply.started": "2022-12-13T05:25:00.638176Z"
    }
   },
   "outputs": [
    {
     "name": "stdout",
     "output_type": "stream",
     "text": [
      "80310\n",
      "20366\n"
     ]
    }
   ],
   "source": [
    "train_tagged_words = [ tup for sent in train_set for tup in sent ]\n",
    "test_tagged_words = [ tup for sent in test_set for tup in sent ]\n",
    "print(len(train_tagged_words))\n",
    "print(len(test_tagged_words))"
   ]
  },
  {
   "cell_type": "code",
   "execution_count": 23,
   "metadata": {
    "execution": {
     "iopub.execute_input": "2022-12-13T05:25:14.848440Z",
     "iopub.status.busy": "2022-12-13T05:25:14.847390Z",
     "iopub.status.idle": "2022-12-13T05:25:14.885694Z",
     "shell.execute_reply": "2022-12-13T05:25:14.884355Z",
     "shell.execute_reply.started": "2022-12-13T05:25:14.848389Z"
    }
   },
   "outputs": [
    {
     "name": "stdout",
     "output_type": "stream",
     "text": [
      "12\n",
      "{'X', '.', 'VERB', 'NUM', 'PRON', 'DET', 'CONJ', 'PRT', 'NOUN', 'ADJ', 'ADV', 'ADP'}\n"
     ]
    }
   ],
   "source": [
    "tags = {tag for word,tag in train_tagged_words}\n",
    "print(len(tags))\n",
    "print(tags)\n",
    " \n",
    "# check total words in vocabulary\n",
    "vocab = {word for word,tag in train_tagged_words}"
   ]
  },
  {
   "cell_type": "code",
   "execution_count": 24,
   "metadata": {
    "execution": {
     "iopub.execute_input": "2022-12-13T05:25:28.416556Z",
     "iopub.status.busy": "2022-12-13T05:25:28.416127Z",
     "iopub.status.idle": "2022-12-13T05:25:28.423809Z",
     "shell.execute_reply": "2022-12-13T05:25:28.422503Z",
     "shell.execute_reply.started": "2022-12-13T05:25:28.416519Z"
    }
   },
   "outputs": [],
   "source": [
    "def word_given_tag(word, tag, train_bag = train_tagged_words):\n",
    "    tag_list = [pair for pair in train_bag if pair[1]==tag]\n",
    "    count_tag = len(tag_list)#total number of times the passed tag occurred in train_bag\n",
    "    w_given_tag_list = [pair[0] for pair in tag_list if pair[0]==word]\n",
    "#now calculate the total number of times the passed word occurred as the passed tag.\n",
    "    count_w_given_tag = len(w_given_tag_list)\n",
    " \n",
    "     \n",
    "    return (count_w_given_tag, count_tag)"
   ]
  },
  {
   "cell_type": "code",
   "execution_count": 25,
   "metadata": {
    "execution": {
     "iopub.execute_input": "2022-12-13T05:25:48.952185Z",
     "iopub.status.busy": "2022-12-13T05:25:48.950792Z",
     "iopub.status.idle": "2022-12-13T05:25:55.124536Z",
     "shell.execute_reply": "2022-12-13T05:25:55.123451Z",
     "shell.execute_reply.started": "2022-12-13T05:25:48.952126Z"
    }
   },
   "outputs": [
    {
     "name": "stdout",
     "output_type": "stream",
     "text": [
      "[[7.57255405e-02 1.60868734e-01 2.06419379e-01 3.07514891e-03\n",
      "  5.41995019e-02 5.68902567e-02 1.03786280e-02 1.85085520e-01\n",
      "  6.16951771e-02 1.76821072e-02 2.57543717e-02 1.42225638e-01]\n",
      " [2.56410260e-02 9.23720598e-02 8.96899477e-02 7.82104954e-02\n",
      "  6.87694475e-02 1.72191828e-01 6.00793920e-02 2.78940029e-03\n",
      "  2.18538776e-01 4.61323895e-02 5.25694676e-02 9.29084867e-02]\n",
      " [2.15930015e-01 3.48066315e-02 1.67955801e-01 2.28360966e-02\n",
      "  3.55432779e-02 1.33609578e-01 5.43278083e-03 3.06629837e-02\n",
      "  1.10589318e-01 6.63904250e-02 8.38858187e-02 9.23572779e-02]\n",
      " [2.02427700e-01 1.19243130e-01 2.07068902e-02 1.84219927e-01\n",
      "  1.42806140e-03 3.57015361e-03 1.42806144e-02 2.60621198e-02\n",
      "  3.51660132e-01 3.53445187e-02 3.57015361e-03 3.74866128e-02]\n",
      " [8.83826911e-02 4.19134386e-02 4.84738052e-01 6.83371304e-03\n",
      "  6.83371304e-03 9.56719834e-03 5.01138950e-03 1.41230067e-02\n",
      "  2.12756261e-01 7.06150308e-02 3.69020514e-02 2.23234631e-02]\n",
      " [4.51343954e-02 1.73925534e-02 4.02472317e-02 2.28546783e-02\n",
      "  3.30602261e-03 6.03708485e-03 4.31220367e-04 2.87480245e-04\n",
      "  6.35906279e-01 2.06410810e-01 1.20741697e-02 9.91806854e-03]\n",
      " [9.33040585e-03 3.51262353e-02 1.50384188e-01 4.06147093e-02\n",
      "  6.03732169e-02 1.23490669e-01 5.48847427e-04 4.39077942e-03\n",
      "  3.49066973e-01 1.13611415e-01 5.70801310e-02 5.59824370e-02]\n",
      " [1.21330721e-02 4.50097844e-02 4.01174158e-01 5.67514673e-02\n",
      "  1.76125243e-02 1.01369865e-01 2.34833662e-03 1.17416831e-03\n",
      "  2.50489235e-01 8.29745606e-02 9.39334650e-03 1.95694715e-02]\n",
      " [2.88252197e-02 2.40094051e-01 1.49133503e-01 9.14395228e-03\n",
      "  4.65906132e-03 1.31063312e-02 4.24540639e-02 4.39345129e-02\n",
      "  2.62344331e-01 1.25838192e-02 1.68945398e-02 1.76826611e-01]\n",
      " [2.09708735e-02 6.60194159e-02 1.14563107e-02 2.17475723e-02\n",
      "  1.94174761e-04 5.24271838e-03 1.68932043e-02 1.14563107e-02\n",
      "  6.96893215e-01 6.33009672e-02 5.24271838e-03 8.05825219e-02]\n",
      " [2.28859577e-02 1.39255241e-01 3.39022487e-01 2.98681147e-02\n",
      "  1.20248254e-02 7.13731572e-02 6.98215654e-03 1.47401085e-02\n",
      "  3.21955010e-02 1.30721495e-01 8.14584941e-02 1.19472459e-01]\n",
      " [3.45482156e-02 3.87243740e-02 8.47886596e-03 6.32751212e-02\n",
      "  6.96026310e-02 3.20931405e-01 1.01240189e-03 1.26550242e-03\n",
      "  3.23588967e-01 1.07061505e-01 1.45532778e-02 1.69577319e-02]]\n"
     ]
    }
   ],
   "source": [
    "def t2_given_t1(t2, t1, train_bag = train_tagged_words):\n",
    "    tags = [pair[1] for pair in train_bag]\n",
    "    count_t1 = len([t for t in tags if t==t1])\n",
    "    count_t2_t1 = 0\n",
    "    for index in range(len(tags)-1):\n",
    "        if tags[index]==t1 and tags[index+1] == t2:\n",
    "            count_t2_t1 += 1\n",
    "    return (count_t2_t1, count_t1)\n",
    "\n",
    "# creating t x t transition matrix of tags, t= no of tags\n",
    "# Matrix(i, j) represents P(jth tag after the ith tag)\n",
    " \n",
    "tags_matrix = np.zeros((len(tags), len(tags)), dtype='float32')\n",
    "for i, t1 in enumerate(list(tags)):\n",
    "    for j, t2 in enumerate(list(tags)): \n",
    "        tags_matrix[i, j] = t2_given_t1(t2, t1)[0]/t2_given_t1(t2, t1)[1]\n",
    " \n",
    "print(tags_matrix)"
   ]
  },
  {
   "cell_type": "code",
   "execution_count": 26,
   "metadata": {
    "execution": {
     "iopub.execute_input": "2022-12-13T05:26:04.795649Z",
     "iopub.status.busy": "2022-12-13T05:26:04.795222Z",
     "iopub.status.idle": "2022-12-13T05:26:04.820620Z",
     "shell.execute_reply": "2022-12-13T05:26:04.819258Z",
     "shell.execute_reply.started": "2022-12-13T05:26:04.795614Z"
    }
   },
   "outputs": [
    {
     "data": {
      "text/html": [
       "<div>\n",
       "<style scoped>\n",
       "    .dataframe tbody tr th:only-of-type {\n",
       "        vertical-align: middle;\n",
       "    }\n",
       "\n",
       "    .dataframe tbody tr th {\n",
       "        vertical-align: top;\n",
       "    }\n",
       "\n",
       "    .dataframe thead th {\n",
       "        text-align: right;\n",
       "    }\n",
       "</style>\n",
       "<table border=\"1\" class=\"dataframe\">\n",
       "  <thead>\n",
       "    <tr style=\"text-align: right;\">\n",
       "      <th></th>\n",
       "      <th>X</th>\n",
       "      <th>.</th>\n",
       "      <th>VERB</th>\n",
       "      <th>NUM</th>\n",
       "      <th>PRON</th>\n",
       "      <th>DET</th>\n",
       "      <th>CONJ</th>\n",
       "      <th>PRT</th>\n",
       "      <th>NOUN</th>\n",
       "      <th>ADJ</th>\n",
       "      <th>ADV</th>\n",
       "      <th>ADP</th>\n",
       "    </tr>\n",
       "  </thead>\n",
       "  <tbody>\n",
       "    <tr>\n",
       "      <th>X</th>\n",
       "      <td>0.075726</td>\n",
       "      <td>0.160869</td>\n",
       "      <td>0.206419</td>\n",
       "      <td>0.003075</td>\n",
       "      <td>0.054200</td>\n",
       "      <td>0.056890</td>\n",
       "      <td>0.010379</td>\n",
       "      <td>0.185086</td>\n",
       "      <td>0.061695</td>\n",
       "      <td>0.017682</td>\n",
       "      <td>0.025754</td>\n",
       "      <td>0.142226</td>\n",
       "    </tr>\n",
       "    <tr>\n",
       "      <th>.</th>\n",
       "      <td>0.025641</td>\n",
       "      <td>0.092372</td>\n",
       "      <td>0.089690</td>\n",
       "      <td>0.078210</td>\n",
       "      <td>0.068769</td>\n",
       "      <td>0.172192</td>\n",
       "      <td>0.060079</td>\n",
       "      <td>0.002789</td>\n",
       "      <td>0.218539</td>\n",
       "      <td>0.046132</td>\n",
       "      <td>0.052569</td>\n",
       "      <td>0.092908</td>\n",
       "    </tr>\n",
       "    <tr>\n",
       "      <th>VERB</th>\n",
       "      <td>0.215930</td>\n",
       "      <td>0.034807</td>\n",
       "      <td>0.167956</td>\n",
       "      <td>0.022836</td>\n",
       "      <td>0.035543</td>\n",
       "      <td>0.133610</td>\n",
       "      <td>0.005433</td>\n",
       "      <td>0.030663</td>\n",
       "      <td>0.110589</td>\n",
       "      <td>0.066390</td>\n",
       "      <td>0.083886</td>\n",
       "      <td>0.092357</td>\n",
       "    </tr>\n",
       "    <tr>\n",
       "      <th>NUM</th>\n",
       "      <td>0.202428</td>\n",
       "      <td>0.119243</td>\n",
       "      <td>0.020707</td>\n",
       "      <td>0.184220</td>\n",
       "      <td>0.001428</td>\n",
       "      <td>0.003570</td>\n",
       "      <td>0.014281</td>\n",
       "      <td>0.026062</td>\n",
       "      <td>0.351660</td>\n",
       "      <td>0.035345</td>\n",
       "      <td>0.003570</td>\n",
       "      <td>0.037487</td>\n",
       "    </tr>\n",
       "    <tr>\n",
       "      <th>PRON</th>\n",
       "      <td>0.088383</td>\n",
       "      <td>0.041913</td>\n",
       "      <td>0.484738</td>\n",
       "      <td>0.006834</td>\n",
       "      <td>0.006834</td>\n",
       "      <td>0.009567</td>\n",
       "      <td>0.005011</td>\n",
       "      <td>0.014123</td>\n",
       "      <td>0.212756</td>\n",
       "      <td>0.070615</td>\n",
       "      <td>0.036902</td>\n",
       "      <td>0.022323</td>\n",
       "    </tr>\n",
       "    <tr>\n",
       "      <th>DET</th>\n",
       "      <td>0.045134</td>\n",
       "      <td>0.017393</td>\n",
       "      <td>0.040247</td>\n",
       "      <td>0.022855</td>\n",
       "      <td>0.003306</td>\n",
       "      <td>0.006037</td>\n",
       "      <td>0.000431</td>\n",
       "      <td>0.000287</td>\n",
       "      <td>0.635906</td>\n",
       "      <td>0.206411</td>\n",
       "      <td>0.012074</td>\n",
       "      <td>0.009918</td>\n",
       "    </tr>\n",
       "    <tr>\n",
       "      <th>CONJ</th>\n",
       "      <td>0.009330</td>\n",
       "      <td>0.035126</td>\n",
       "      <td>0.150384</td>\n",
       "      <td>0.040615</td>\n",
       "      <td>0.060373</td>\n",
       "      <td>0.123491</td>\n",
       "      <td>0.000549</td>\n",
       "      <td>0.004391</td>\n",
       "      <td>0.349067</td>\n",
       "      <td>0.113611</td>\n",
       "      <td>0.057080</td>\n",
       "      <td>0.055982</td>\n",
       "    </tr>\n",
       "    <tr>\n",
       "      <th>PRT</th>\n",
       "      <td>0.012133</td>\n",
       "      <td>0.045010</td>\n",
       "      <td>0.401174</td>\n",
       "      <td>0.056751</td>\n",
       "      <td>0.017613</td>\n",
       "      <td>0.101370</td>\n",
       "      <td>0.002348</td>\n",
       "      <td>0.001174</td>\n",
       "      <td>0.250489</td>\n",
       "      <td>0.082975</td>\n",
       "      <td>0.009393</td>\n",
       "      <td>0.019569</td>\n",
       "    </tr>\n",
       "    <tr>\n",
       "      <th>NOUN</th>\n",
       "      <td>0.028825</td>\n",
       "      <td>0.240094</td>\n",
       "      <td>0.149134</td>\n",
       "      <td>0.009144</td>\n",
       "      <td>0.004659</td>\n",
       "      <td>0.013106</td>\n",
       "      <td>0.042454</td>\n",
       "      <td>0.043935</td>\n",
       "      <td>0.262344</td>\n",
       "      <td>0.012584</td>\n",
       "      <td>0.016895</td>\n",
       "      <td>0.176827</td>\n",
       "    </tr>\n",
       "    <tr>\n",
       "      <th>ADJ</th>\n",
       "      <td>0.020971</td>\n",
       "      <td>0.066019</td>\n",
       "      <td>0.011456</td>\n",
       "      <td>0.021748</td>\n",
       "      <td>0.000194</td>\n",
       "      <td>0.005243</td>\n",
       "      <td>0.016893</td>\n",
       "      <td>0.011456</td>\n",
       "      <td>0.696893</td>\n",
       "      <td>0.063301</td>\n",
       "      <td>0.005243</td>\n",
       "      <td>0.080583</td>\n",
       "    </tr>\n",
       "    <tr>\n",
       "      <th>ADV</th>\n",
       "      <td>0.022886</td>\n",
       "      <td>0.139255</td>\n",
       "      <td>0.339022</td>\n",
       "      <td>0.029868</td>\n",
       "      <td>0.012025</td>\n",
       "      <td>0.071373</td>\n",
       "      <td>0.006982</td>\n",
       "      <td>0.014740</td>\n",
       "      <td>0.032196</td>\n",
       "      <td>0.130721</td>\n",
       "      <td>0.081458</td>\n",
       "      <td>0.119472</td>\n",
       "    </tr>\n",
       "    <tr>\n",
       "      <th>ADP</th>\n",
       "      <td>0.034548</td>\n",
       "      <td>0.038724</td>\n",
       "      <td>0.008479</td>\n",
       "      <td>0.063275</td>\n",
       "      <td>0.069603</td>\n",
       "      <td>0.320931</td>\n",
       "      <td>0.001012</td>\n",
       "      <td>0.001266</td>\n",
       "      <td>0.323589</td>\n",
       "      <td>0.107062</td>\n",
       "      <td>0.014553</td>\n",
       "      <td>0.016958</td>\n",
       "    </tr>\n",
       "  </tbody>\n",
       "</table>\n",
       "</div>"
      ],
      "text/plain": [
       "             X         .      VERB       NUM      PRON       DET      CONJ  \\\n",
       "X     0.075726  0.160869  0.206419  0.003075  0.054200  0.056890  0.010379   \n",
       ".     0.025641  0.092372  0.089690  0.078210  0.068769  0.172192  0.060079   \n",
       "VERB  0.215930  0.034807  0.167956  0.022836  0.035543  0.133610  0.005433   \n",
       "NUM   0.202428  0.119243  0.020707  0.184220  0.001428  0.003570  0.014281   \n",
       "PRON  0.088383  0.041913  0.484738  0.006834  0.006834  0.009567  0.005011   \n",
       "DET   0.045134  0.017393  0.040247  0.022855  0.003306  0.006037  0.000431   \n",
       "CONJ  0.009330  0.035126  0.150384  0.040615  0.060373  0.123491  0.000549   \n",
       "PRT   0.012133  0.045010  0.401174  0.056751  0.017613  0.101370  0.002348   \n",
       "NOUN  0.028825  0.240094  0.149134  0.009144  0.004659  0.013106  0.042454   \n",
       "ADJ   0.020971  0.066019  0.011456  0.021748  0.000194  0.005243  0.016893   \n",
       "ADV   0.022886  0.139255  0.339022  0.029868  0.012025  0.071373  0.006982   \n",
       "ADP   0.034548  0.038724  0.008479  0.063275  0.069603  0.320931  0.001012   \n",
       "\n",
       "           PRT      NOUN       ADJ       ADV       ADP  \n",
       "X     0.185086  0.061695  0.017682  0.025754  0.142226  \n",
       ".     0.002789  0.218539  0.046132  0.052569  0.092908  \n",
       "VERB  0.030663  0.110589  0.066390  0.083886  0.092357  \n",
       "NUM   0.026062  0.351660  0.035345  0.003570  0.037487  \n",
       "PRON  0.014123  0.212756  0.070615  0.036902  0.022323  \n",
       "DET   0.000287  0.635906  0.206411  0.012074  0.009918  \n",
       "CONJ  0.004391  0.349067  0.113611  0.057080  0.055982  \n",
       "PRT   0.001174  0.250489  0.082975  0.009393  0.019569  \n",
       "NOUN  0.043935  0.262344  0.012584  0.016895  0.176827  \n",
       "ADJ   0.011456  0.696893  0.063301  0.005243  0.080583  \n",
       "ADV   0.014740  0.032196  0.130721  0.081458  0.119472  \n",
       "ADP   0.001266  0.323589  0.107062  0.014553  0.016958  "
      ]
     },
     "metadata": {},
     "output_type": "display_data"
    }
   ],
   "source": [
    "tags_df = pd.DataFrame(tags_matrix, columns = list(tags), index=list(tags))\n",
    "display(tags_df)"
   ]
  },
  {
   "cell_type": "code",
   "execution_count": 27,
   "metadata": {
    "execution": {
     "iopub.execute_input": "2022-12-13T05:26:27.083310Z",
     "iopub.status.busy": "2022-12-13T05:26:27.082718Z",
     "iopub.status.idle": "2022-12-13T05:26:27.093230Z",
     "shell.execute_reply": "2022-12-13T05:26:27.091887Z",
     "shell.execute_reply.started": "2022-12-13T05:26:27.083267Z"
    }
   },
   "outputs": [],
   "source": [
    "def Viterbi(words, train_bag = train_tagged_words):\n",
    "    state = []\n",
    "    T = list(set([pair[1] for pair in train_bag]))\n",
    "     \n",
    "    for key, word in enumerate(words):\n",
    "        #initialise list of probability column for a given observation\n",
    "        p = [] \n",
    "        for tag in T:\n",
    "            if key == 0:\n",
    "                transition_p = tags_df.loc['.', tag]\n",
    "            else:\n",
    "                transition_p = tags_df.loc[state[-1], tag]\n",
    "                 \n",
    "            # compute emission and state probabilities\n",
    "            emission_p = word_given_tag(words[key], tag)[0]/word_given_tag(words[key], tag)[1]\n",
    "            state_probability = emission_p * transition_p    \n",
    "            p.append(state_probability)\n",
    "             \n",
    "        pmax = max(p)\n",
    "        # getting state for which probability is maximum\n",
    "        state_max = T[p.index(pmax)] \n",
    "        state.append(state_max)\n",
    "    return list(zip(words, state))"
   ]
  },
  {
   "cell_type": "code",
   "execution_count": 28,
   "metadata": {
    "execution": {
     "iopub.execute_input": "2022-12-13T05:26:59.720527Z",
     "iopub.status.busy": "2022-12-13T05:26:59.719470Z",
     "iopub.status.idle": "2022-12-13T05:26:59.727890Z",
     "shell.execute_reply": "2022-12-13T05:26:59.726758Z",
     "shell.execute_reply.started": "2022-12-13T05:26:59.720480Z"
    }
   },
   "outputs": [],
   "source": [
    "random.seed(1234)      #define a random seed to get same sentences when run multiple times\n",
    " \n",
    "# choose random 10 numbers\n",
    "rndom = [random.randint(1,len(test_set)) for x in range(10)]\n",
    " \n",
    "# list of 10 sents on which we test the model\n",
    "test_run = [test_set[i] for i in rndom]\n",
    " \n",
    "# list of tagged words\n",
    "test_run_base = [tup for sent in test_run for tup in sent]\n",
    " \n",
    "# list of untagged words\n",
    "test_tagged_words = [tup[0] for sent in test_run for tup in sent]"
   ]
  },
  {
   "cell_type": "code",
   "execution_count": 29,
   "metadata": {
    "execution": {
     "iopub.execute_input": "2022-12-13T05:27:50.605976Z",
     "iopub.status.busy": "2022-12-13T05:27:50.604945Z",
     "iopub.status.idle": "2022-12-13T05:28:49.679755Z",
     "shell.execute_reply": "2022-12-13T05:28:49.678501Z",
     "shell.execute_reply.started": "2022-12-13T05:27:50.605931Z"
    }
   },
   "outputs": [
    {
     "name": "stdout",
     "output_type": "stream",
     "text": [
      "Time taken in seconds:  40.69929385185242\n",
      "Viterbi Algorithm Accuracy:  94.25837320574163\n"
     ]
    }
   ],
   "source": [
    "start = time.time()\n",
    "tagged_seq = Viterbi(test_tagged_words)\n",
    "end = time.time()\n",
    "difference = end-start\n",
    " \n",
    "print(\"Time taken in seconds: \", difference)\n",
    " \n",
    "# accuracy\n",
    "check = [i for i, j in zip(tagged_seq, test_run_base) if i == j] \n",
    "\n",
    "accuracy = len(check)/len(tagged_seq)\n",
    "print('Viterbi Algorithm Accuracy: ',accuracy*100)"
   ]
  },
  {
   "cell_type": "code",
   "execution_count": null,
   "metadata": {
    "execution": {
     "iopub.execute_input": "2022-12-13T06:10:47.282230Z",
     "iopub.status.busy": "2022-12-13T06:10:47.281070Z",
     "iopub.status.idle": "2022-12-13T06:10:47.291337Z",
     "shell.execute_reply": "2022-12-13T06:10:47.290021Z",
     "shell.execute_reply.started": "2022-12-13T06:10:47.282162Z"
    }
   },
   "outputs": [],
   "source": [
    "tagged_seq[3][1]"
   ]
  },
  {
   "cell_type": "code",
   "execution_count": 11,
   "metadata": {
    "execution": {
     "iopub.execute_input": "2022-12-13T06:13:58.204172Z",
     "iopub.status.busy": "2022-12-13T06:13:58.203726Z",
     "iopub.status.idle": "2022-12-13T06:13:58.211526Z",
     "shell.execute_reply": "2022-12-13T06:13:58.210382Z",
     "shell.execute_reply.started": "2022-12-13T06:13:58.204138Z"
    }
   },
   "outputs": [
    {
     "ename": "NameError",
     "evalue": "name 'tagged_seq' is not defined",
     "output_type": "error",
     "traceback": [
      "\u001b[1;31m---------------------------------------------------------------------------\u001b[0m",
      "\u001b[1;31mNameError\u001b[0m                                 Traceback (most recent call last)",
      "\u001b[1;32m~\\AppData\\Local\\Temp/ipykernel_8396/1501294762.py\u001b[0m in \u001b[0;36m<module>\u001b[1;34m\u001b[0m\n\u001b[0;32m      1\u001b[0m \u001b[0my_test1\u001b[0m\u001b[1;33m=\u001b[0m\u001b[1;33m[\u001b[0m\u001b[1;33m]\u001b[0m\u001b[1;33m\u001b[0m\u001b[1;33m\u001b[0m\u001b[0m\n\u001b[0;32m      2\u001b[0m \u001b[0my_pred1\u001b[0m\u001b[1;33m=\u001b[0m\u001b[1;33m[\u001b[0m\u001b[1;33m]\u001b[0m\u001b[1;33m\u001b[0m\u001b[1;33m\u001b[0m\u001b[0m\n\u001b[1;32m----> 3\u001b[1;33m \u001b[1;32mfor\u001b[0m \u001b[0mi\u001b[0m \u001b[1;32min\u001b[0m \u001b[0mrange\u001b[0m\u001b[1;33m(\u001b[0m\u001b[1;36m0\u001b[0m\u001b[1;33m,\u001b[0m\u001b[0mlen\u001b[0m\u001b[1;33m(\u001b[0m\u001b[0mtagged_seq\u001b[0m\u001b[1;33m)\u001b[0m\u001b[1;33m)\u001b[0m\u001b[1;33m:\u001b[0m\u001b[1;33m\u001b[0m\u001b[1;33m\u001b[0m\u001b[0m\n\u001b[0m\u001b[0;32m      4\u001b[0m     \u001b[0my_pred1\u001b[0m\u001b[1;33m.\u001b[0m\u001b[0mappend\u001b[0m\u001b[1;33m(\u001b[0m\u001b[0mtagged_seq\u001b[0m\u001b[1;33m[\u001b[0m\u001b[0mi\u001b[0m\u001b[1;33m]\u001b[0m\u001b[1;33m[\u001b[0m\u001b[1;36m1\u001b[0m\u001b[1;33m]\u001b[0m\u001b[1;33m)\u001b[0m\u001b[1;33m\u001b[0m\u001b[1;33m\u001b[0m\u001b[0m\n\u001b[0;32m      5\u001b[0m \u001b[1;33m\u001b[0m\u001b[0m\n",
      "\u001b[1;31mNameError\u001b[0m: name 'tagged_seq' is not defined"
     ]
    }
   ],
   "source": [
    "y_test1=[]\n",
    "y_pred1=[]\n",
    "for i in range(0,len(tagged_seq)):\n",
    "    y_pred1.append(tagged_seq[i][1])\n",
    "    \n",
    "for i in range(0,len(test_run_base)):\n",
    "    y_test1.append(test_run_base[i][1])"
   ]
  },
  {
   "cell_type": "code",
   "execution_count": 12,
   "metadata": {
    "execution": {
     "iopub.execute_input": "2022-12-13T06:14:00.467345Z",
     "iopub.status.busy": "2022-12-13T06:14:00.466463Z",
     "iopub.status.idle": "2022-12-13T06:14:00.474123Z",
     "shell.execute_reply": "2022-12-13T06:14:00.473149Z",
     "shell.execute_reply.started": "2022-12-13T06:14:00.467290Z"
    }
   },
   "outputs": [],
   "source": [
    "from sklearn import preprocessing\n",
    "le = preprocessing.LabelEncoder()\n",
    "y_test1=le.fit_transform(y_test1)\n",
    "y_pred1=le.transform(y_pred1)"
   ]
  },
  {
   "cell_type": "code",
   "execution_count": 13,
   "metadata": {
    "execution": {
     "iopub.execute_input": "2022-12-13T06:14:02.637054Z",
     "iopub.status.busy": "2022-12-13T06:14:02.636170Z",
     "iopub.status.idle": "2022-12-13T06:14:02.655579Z",
     "shell.execute_reply": "2022-12-13T06:14:02.653876Z",
     "shell.execute_reply.started": "2022-12-13T06:14:02.637003Z"
    }
   },
   "outputs": [
    {
     "ename": "NameError",
     "evalue": "name 'classification_report' is not defined",
     "output_type": "error",
     "traceback": [
      "\u001b[1;31m---------------------------------------------------------------------------\u001b[0m",
      "\u001b[1;31mNameError\u001b[0m                                 Traceback (most recent call last)",
      "\u001b[1;32m~\\AppData\\Local\\Temp/ipykernel_8396/3219996157.py\u001b[0m in \u001b[0;36m<module>\u001b[1;34m\u001b[0m\n\u001b[0;32m      1\u001b[0m \u001b[1;31m# y_pred=le.transform(tagged_seq)\u001b[0m\u001b[1;33m\u001b[0m\u001b[1;33m\u001b[0m\u001b[0m\n\u001b[0;32m      2\u001b[0m \u001b[1;33m\u001b[0m\u001b[0m\n\u001b[1;32m----> 3\u001b[1;33m \u001b[0mprint\u001b[0m\u001b[1;33m(\u001b[0m\u001b[0mclassification_report\u001b[0m\u001b[1;33m(\u001b[0m\u001b[0my_test1\u001b[0m\u001b[1;33m,\u001b[0m \u001b[0my_pred1\u001b[0m\u001b[1;33m)\u001b[0m\u001b[1;33m)\u001b[0m\u001b[1;33m\u001b[0m\u001b[1;33m\u001b[0m\u001b[0m\n\u001b[0m\u001b[0;32m      4\u001b[0m \u001b[0maccuracy_score\u001b[0m\u001b[1;33m(\u001b[0m\u001b[0my_test1\u001b[0m\u001b[1;33m,\u001b[0m \u001b[0my_pred1\u001b[0m\u001b[1;33m)\u001b[0m\u001b[1;33m\u001b[0m\u001b[1;33m\u001b[0m\u001b[0m\n",
      "\u001b[1;31mNameError\u001b[0m: name 'classification_report' is not defined"
     ]
    }
   ],
   "source": [
    "# y_pred=le.transform(tagged_seq)\n",
    "\n",
    "print(classification_report(y_test1, y_pred1))\n",
    "accuracy_score(y_test1, y_pred1)"
   ]
  },
  {
   "cell_type": "code",
   "execution_count": null,
   "metadata": {},
   "outputs": [],
   "source": []
  },
  {
   "cell_type": "code",
   "execution_count": null,
   "metadata": {},
   "outputs": [],
   "source": []
  },
  {
   "cell_type": "code",
   "execution_count": null,
   "metadata": {},
   "outputs": [],
   "source": []
  },
  {
   "cell_type": "code",
   "execution_count": null,
   "metadata": {},
   "outputs": [],
   "source": []
  }
 ],
 "metadata": {
  "kernelspec": {
   "display_name": "Python 3 (ipykernel)",
   "language": "python",
   "name": "python3"
  },
  "language_info": {
   "codemirror_mode": {
    "name": "ipython",
    "version": 3
   },
   "file_extension": ".py",
   "mimetype": "text/x-python",
   "name": "python",
   "nbconvert_exporter": "python",
   "pygments_lexer": "ipython3",
   "version": "3.9.7"
  }
 },
 "nbformat": 4,
 "nbformat_minor": 4
}
