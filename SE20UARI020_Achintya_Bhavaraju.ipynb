{
 "cells": [
  {
   "cell_type": "code",
   "execution_count": 142,
   "id": "60fcbba6",
   "metadata": {},
   "outputs": [],
   "source": [
    "#ACHINTYA BHAVARAJU\n",
    "#SE20UARI020\n",
    "import numpy as np\n",
    "import pandas as pd\n",
    "import matplotlib.pyplot as plt\n",
    "import seaborn as sns\n",
    "%matplotlib inline\n",
    "import warnings\n",
    "warnings.filterwarnings('ignore')\n",
    "\n",
    "%config InlineBackend.figure_format = 'retina'"
   ]
  },
  {
   "cell_type": "code",
   "execution_count": 93,
   "id": "a4ae9d80",
   "metadata": {},
   "outputs": [],
   "source": [
    "data = pd.read_csv(r'D:\\OneDrive\\Desktop\\spam.csv',encoding='latin-1')"
   ]
  },
  {
   "cell_type": "code",
   "execution_count": 95,
   "id": "aa57491b",
   "metadata": {},
   "outputs": [
    {
     "data": {
      "text/html": [
       "<div>\n",
       "<style scoped>\n",
       "    .dataframe tbody tr th:only-of-type {\n",
       "        vertical-align: middle;\n",
       "    }\n",
       "\n",
       "    .dataframe tbody tr th {\n",
       "        vertical-align: top;\n",
       "    }\n",
       "\n",
       "    .dataframe thead th {\n",
       "        text-align: right;\n",
       "    }\n",
       "</style>\n",
       "<table border=\"1\" class=\"dataframe\">\n",
       "  <thead>\n",
       "    <tr style=\"text-align: right;\">\n",
       "      <th></th>\n",
       "      <th>v1</th>\n",
       "      <th>v2</th>\n",
       "      <th>Unnamed: 2</th>\n",
       "      <th>Unnamed: 3</th>\n",
       "      <th>Unnamed: 4</th>\n",
       "    </tr>\n",
       "  </thead>\n",
       "  <tbody>\n",
       "    <tr>\n",
       "      <th>0</th>\n",
       "      <td>ham</td>\n",
       "      <td>Go until jurong point, crazy.. Available only ...</td>\n",
       "      <td>NaN</td>\n",
       "      <td>NaN</td>\n",
       "      <td>NaN</td>\n",
       "    </tr>\n",
       "    <tr>\n",
       "      <th>1</th>\n",
       "      <td>ham</td>\n",
       "      <td>Ok lar... Joking wif u oni...</td>\n",
       "      <td>NaN</td>\n",
       "      <td>NaN</td>\n",
       "      <td>NaN</td>\n",
       "    </tr>\n",
       "    <tr>\n",
       "      <th>2</th>\n",
       "      <td>spam</td>\n",
       "      <td>Free entry in 2 a wkly comp to win FA Cup fina...</td>\n",
       "      <td>NaN</td>\n",
       "      <td>NaN</td>\n",
       "      <td>NaN</td>\n",
       "    </tr>\n",
       "    <tr>\n",
       "      <th>3</th>\n",
       "      <td>ham</td>\n",
       "      <td>U dun say so early hor... U c already then say...</td>\n",
       "      <td>NaN</td>\n",
       "      <td>NaN</td>\n",
       "      <td>NaN</td>\n",
       "    </tr>\n",
       "    <tr>\n",
       "      <th>4</th>\n",
       "      <td>ham</td>\n",
       "      <td>Nah I don't think he goes to usf, he lives aro...</td>\n",
       "      <td>NaN</td>\n",
       "      <td>NaN</td>\n",
       "      <td>NaN</td>\n",
       "    </tr>\n",
       "  </tbody>\n",
       "</table>\n",
       "</div>"
      ],
      "text/plain": [
       "     v1                                                 v2 Unnamed: 2  \\\n",
       "0   ham  Go until jurong point, crazy.. Available only ...        NaN   \n",
       "1   ham                      Ok lar... Joking wif u oni...        NaN   \n",
       "2  spam  Free entry in 2 a wkly comp to win FA Cup fina...        NaN   \n",
       "3   ham  U dun say so early hor... U c already then say...        NaN   \n",
       "4   ham  Nah I don't think he goes to usf, he lives aro...        NaN   \n",
       "\n",
       "  Unnamed: 3 Unnamed: 4  \n",
       "0        NaN        NaN  \n",
       "1        NaN        NaN  \n",
       "2        NaN        NaN  \n",
       "3        NaN        NaN  \n",
       "4        NaN        NaN  "
      ]
     },
     "execution_count": 95,
     "metadata": {},
     "output_type": "execute_result"
    }
   ],
   "source": [
    "data.head()"
   ]
  },
  {
   "cell_type": "code",
   "execution_count": 96,
   "id": "5cc5aeff",
   "metadata": {},
   "outputs": [],
   "source": [
    "data = data.drop([\"Unnamed: 2\", \"Unnamed: 3\", \"Unnamed: 4\"], axis=1)\n",
    "data = data.rename(columns={\"v1\":\"label\", \"v2\":\"text\"})"
   ]
  },
  {
   "cell_type": "code",
   "execution_count": 97,
   "id": "40338eed",
   "metadata": {},
   "outputs": [],
   "source": [
    "data['label'] = data.label.map({'ham':0, 'spam':1})"
   ]
  },
  {
   "cell_type": "code",
   "execution_count": 98,
   "id": "f9b9c6b9",
   "metadata": {},
   "outputs": [
    {
     "data": {
      "text/html": [
       "<div>\n",
       "<style scoped>\n",
       "    .dataframe tbody tr th:only-of-type {\n",
       "        vertical-align: middle;\n",
       "    }\n",
       "\n",
       "    .dataframe tbody tr th {\n",
       "        vertical-align: top;\n",
       "    }\n",
       "\n",
       "    .dataframe thead th {\n",
       "        text-align: right;\n",
       "    }\n",
       "</style>\n",
       "<table border=\"1\" class=\"dataframe\">\n",
       "  <thead>\n",
       "    <tr style=\"text-align: right;\">\n",
       "      <th></th>\n",
       "      <th>label</th>\n",
       "      <th>text</th>\n",
       "    </tr>\n",
       "  </thead>\n",
       "  <tbody>\n",
       "    <tr>\n",
       "      <th>0</th>\n",
       "      <td>0</td>\n",
       "      <td>Go until jurong point, crazy.. Available only ...</td>\n",
       "    </tr>\n",
       "    <tr>\n",
       "      <th>1</th>\n",
       "      <td>0</td>\n",
       "      <td>Ok lar... Joking wif u oni...</td>\n",
       "    </tr>\n",
       "    <tr>\n",
       "      <th>2</th>\n",
       "      <td>1</td>\n",
       "      <td>Free entry in 2 a wkly comp to win FA Cup fina...</td>\n",
       "    </tr>\n",
       "    <tr>\n",
       "      <th>3</th>\n",
       "      <td>0</td>\n",
       "      <td>U dun say so early hor... U c already then say...</td>\n",
       "    </tr>\n",
       "    <tr>\n",
       "      <th>4</th>\n",
       "      <td>0</td>\n",
       "      <td>Nah I don't think he goes to usf, he lives aro...</td>\n",
       "    </tr>\n",
       "  </tbody>\n",
       "</table>\n",
       "</div>"
      ],
      "text/plain": [
       "   label                                               text\n",
       "0      0  Go until jurong point, crazy.. Available only ...\n",
       "1      0                      Ok lar... Joking wif u oni...\n",
       "2      1  Free entry in 2 a wkly comp to win FA Cup fina...\n",
       "3      0  U dun say so early hor... U c already then say...\n",
       "4      0  Nah I don't think he goes to usf, he lives aro..."
      ]
     },
     "execution_count": 98,
     "metadata": {},
     "output_type": "execute_result"
    }
   ],
   "source": [
    "data.head()"
   ]
  },
  {
   "cell_type": "code",
   "execution_count": 90,
   "id": "19cfa07b",
   "metadata": {},
   "outputs": [
    {
     "data": {
      "text/html": [
       "<div>\n",
       "<style scoped>\n",
       "    .dataframe tbody tr th:only-of-type {\n",
       "        vertical-align: middle;\n",
       "    }\n",
       "\n",
       "    .dataframe tbody tr th {\n",
       "        vertical-align: top;\n",
       "    }\n",
       "\n",
       "    .dataframe thead th {\n",
       "        text-align: right;\n",
       "    }\n",
       "</style>\n",
       "<table border=\"1\" class=\"dataframe\">\n",
       "  <thead>\n",
       "    <tr style=\"text-align: right;\">\n",
       "      <th></th>\n",
       "      <th>Category</th>\n",
       "      <th>Message</th>\n",
       "    </tr>\n",
       "  </thead>\n",
       "  <tbody>\n",
       "    <tr>\n",
       "      <th>0</th>\n",
       "      <td>ham</td>\n",
       "      <td>Go until jurong point, crazy.. Available only ...</td>\n",
       "    </tr>\n",
       "    <tr>\n",
       "      <th>1</th>\n",
       "      <td>ham</td>\n",
       "      <td>Ok lar... Joking wif u oni...</td>\n",
       "    </tr>\n",
       "    <tr>\n",
       "      <th>2</th>\n",
       "      <td>spam</td>\n",
       "      <td>Free entry in 2 a wkly comp to win FA Cup fina...</td>\n",
       "    </tr>\n",
       "    <tr>\n",
       "      <th>3</th>\n",
       "      <td>ham</td>\n",
       "      <td>U dun say so early hor... U c already then say...</td>\n",
       "    </tr>\n",
       "    <tr>\n",
       "      <th>4</th>\n",
       "      <td>ham</td>\n",
       "      <td>Nah I don't think he goes to usf, he lives aro...</td>\n",
       "    </tr>\n",
       "  </tbody>\n",
       "</table>\n",
       "</div>"
      ],
      "text/plain": [
       "  Category                                            Message\n",
       "0      ham  Go until jurong point, crazy.. Available only ...\n",
       "1      ham                      Ok lar... Joking wif u oni...\n",
       "2     spam  Free entry in 2 a wkly comp to win FA Cup fina...\n",
       "3      ham  U dun say so early hor... U c already then say...\n",
       "4      ham  Nah I don't think he goes to usf, he lives aro..."
      ]
     },
     "execution_count": 90,
     "metadata": {},
     "output_type": "execute_result"
    }
   ],
   "source": [
    "df.head()"
   ]
  },
  {
   "cell_type": "code",
   "execution_count": 99,
   "id": "9b3b8aad",
   "metadata": {},
   "outputs": [
    {
     "data": {
      "text/plain": [
       "0    4825\n",
       "1     747\n",
       "Name: label, dtype: int64"
      ]
     },
     "execution_count": 99,
     "metadata": {},
     "output_type": "execute_result"
    }
   ],
   "source": [
    "data.label.value_counts()"
   ]
  },
  {
   "cell_type": "code",
   "execution_count": 100,
   "id": "89e201d8",
   "metadata": {},
   "outputs": [],
   "source": [
    "import re\n",
    "import nltk\n",
    "from nltk.corpus import stopwords\n",
    "from nltk.stem.porter import PorterStemmer"
   ]
  },
  {
   "cell_type": "code",
   "execution_count": 101,
   "id": "1bef4b6a",
   "metadata": {},
   "outputs": [],
   "source": [
    "corpus = []\n",
    "for i in range(0, len(data)):\n",
    "    review = re.sub('[^a-zA-Z]', ' ', data['text'][i])\n",
    "    review = review.lower()\n",
    "    review = review.split()\n",
    "    ps = PorterStemmer()\n",
    "    review = [ps.stem(word) for word in review if not word in set(stopwords.words('english'))]\n",
    "    review = ' '.join(review)\n",
    "    corpus.append(review)"
   ]
  },
  {
   "cell_type": "code",
   "execution_count": 102,
   "id": "fb136a88",
   "metadata": {},
   "outputs": [],
   "source": [
    "from sklearn.feature_extraction.text import CountVectorizer\n",
    "cv = CountVectorizer()\n",
    "X = cv.fit_transform(corpus).toarray()\n",
    "y = data.iloc[:, 0].values"
   ]
  },
  {
   "cell_type": "code",
   "execution_count": 103,
   "id": "f4020db8",
   "metadata": {},
   "outputs": [
    {
     "name": "stdout",
     "output_type": "stream",
     "text": [
      "['aa', 'aah', 'aaniy', 'aaooooright', 'aathi', 'ab', 'abbey', 'abdomen', 'abeg', 'abel', 'aberdeen', 'abi', 'abil', 'abiola', 'abj', 'abl', 'abnorm', 'abouta', 'abroad', 'absenc']\n",
      "['yunni', 'yuo', 'yuou', 'yup', 'yupz', 'zac', 'zaher', 'zealand', 'zebra', 'zed', 'zero', 'zf', 'zhong', 'zindgi', 'zoe', 'zogtoriu', 'zoom', 'zouk', 'zs', 'zyada']\n"
     ]
    }
   ],
   "source": [
    "print(cv.get_feature_names()[0:20])\n",
    "print(cv.get_feature_names()[-20:])"
   ]
  },
  {
   "cell_type": "code",
   "execution_count": 104,
   "id": "83b16eb1",
   "metadata": {},
   "outputs": [
    {
     "name": "stdout",
     "output_type": "stream",
     "text": [
      "(5572, 6221) (5572,)\n"
     ]
    }
   ],
   "source": [
    "print(X.shape,y.shape)"
   ]
  },
  {
   "cell_type": "code",
   "execution_count": 105,
   "id": "8455fd0d",
   "metadata": {},
   "outputs": [],
   "source": [
    "from sklearn.model_selection import train_test_split\n",
    "X_train, X_test, y_train, y_test = train_test_split(X, y, test_size = 0.20, random_state = 0)"
   ]
  },
  {
   "cell_type": "code",
   "execution_count": 106,
   "id": "0502efb7",
   "metadata": {},
   "outputs": [
    {
     "name": "stdout",
     "output_type": "stream",
     "text": [
      "(4457, 6221) (1115, 6221)\n"
     ]
    }
   ],
   "source": [
    "print(X_train.shape,X_test.shape)"
   ]
  },
  {
   "cell_type": "code",
   "execution_count": 107,
   "id": "18a93ada",
   "metadata": {},
   "outputs": [],
   "source": [
    "from wordcloud import WordCloud"
   ]
  },
  {
   "cell_type": "code",
   "execution_count": 108,
   "id": "ea92c959",
   "metadata": {},
   "outputs": [],
   "source": [
    "ham_words = ''\n",
    "spam_words = ''\n",
    "spam = data[data.label == 1]\n",
    "ham = data[data.label ==0]\n",
    "\n",
    "for val in spam.text:\n",
    "    text = re.sub('[^a-zA-Z]', ' ', val)\n",
    "    text = text.lower()\n",
    "    text = text.split()\n",
    "    ps = PorterStemmer()\n",
    "    text = [ps.stem(word) for word in text if not word in set(stopwords.words('english'))]\n",
    "    for words in text:\n",
    "        spam_words = spam_words + words + ' '\n",
    "    \n",
    "for val in ham.text:\n",
    "    text = re.sub('[^a-zA-Z]', ' ', val)\n",
    "    text = text.lower()\n",
    "    text = text.split()\n",
    "    ps = PorterStemmer()\n",
    "    text = [ps.stem(word) for word in text if not word in set(stopwords.words('english'))]\n",
    "    for words in text:\n",
    "          ham_words = ham_words + words + ' '"
   ]
  },
  {
   "cell_type": "code",
   "execution_count": 113,
   "id": "c5d2869f",
   "metadata": {},
   "outputs": [
    {
     "data": {
      "text/plain": [
       "MultinomialNB()"
      ]
     },
     "execution_count": 113,
     "metadata": {},
     "output_type": "execute_result"
    }
   ],
   "source": [
    "from sklearn.naive_bayes import MultinomialNB\n",
    "classifier = MultinomialNB()\n",
    "classifier.fit(X_train, y_train)"
   ]
  },
  {
   "cell_type": "code",
   "execution_count": 114,
   "id": "8ef9652a",
   "metadata": {},
   "outputs": [
    {
     "data": {
      "text/plain": [
       "0.979372197309417"
      ]
     },
     "execution_count": 114,
     "metadata": {},
     "output_type": "execute_result"
    }
   ],
   "source": [
    "prediction[\"MultinomialNB\"] = classifier.predict(X_test)\n",
    "accuracy_score(y_test,prediction[\"MultinomialNB\"])"
   ]
  },
  {
   "cell_type": "code",
   "execution_count": 116,
   "id": "cd23a125",
   "metadata": {},
   "outputs": [],
   "source": [
    "conf_mat = confusion_matrix(y_test, prediction['MultinomialNB'])\n",
    "conf_mat_normalized = conf_mat.astype('float') / conf_mat.sum(axis=1)[:, np.newaxis]"
   ]
  },
  {
   "cell_type": "code",
   "execution_count": 117,
   "id": "474b64fb",
   "metadata": {},
   "outputs": [
    {
     "data": {
      "text/plain": [
       "Text(0.5, 15.0, 'Predicted label')"
      ]
     },
     "execution_count": 117,
     "metadata": {},
     "output_type": "execute_result"
    },
    {
     "data": {
      "image/png": "[encoded data removed]",
      "text/plain": [
       "<Figure size 432x288 with 2 Axes>"
      ]
     },
     "metadata": {
      "image/png": {
       "height": 261,
       "width": 362
      },
      "needs_background": "light"
     },
     "output_type": "display_data"
    }
   ],
   "source": [
    "sns.heatmap(conf_mat_normalized)\n",
    "plt.ylabel('True label')\n",
    "plt.xlabel('Predicted label')"
   ]
  },
  {
   "cell_type": "code",
   "execution_count": 118,
   "id": "bc72d42e",
   "metadata": {},
   "outputs": [
    {
     "name": "stdout",
     "output_type": "stream",
     "text": [
      "[[932  17]\n",
      " [  6 160]]\n"
     ]
    }
   ],
   "source": [
    "print(conf_mat)"
   ]
  },
  {
   "cell_type": "code",
   "execution_count": 119,
   "id": "4ce707e8",
   "metadata": {},
   "outputs": [
    {
     "name": "stdout",
     "output_type": "stream",
     "text": [
      "              precision    recall  f1-score   support\n",
      "\n",
      "         Ham       0.99      0.98      0.99       949\n",
      "        Spam       0.90      0.96      0.93       166\n",
      "\n",
      "    accuracy                           0.98      1115\n",
      "   macro avg       0.95      0.97      0.96      1115\n",
      "weighted avg       0.98      0.98      0.98      1115\n",
      "\n"
     ]
    }
   ],
   "source": [
    "print(classification_report(y_test, prediction['MultinomialNB'], target_names = [\"Ham\", \"Spam\"]))"
   ]
  },
  {
   "cell_type": "code",
   "execution_count": 120,
   "id": "d3ebe9af",
   "metadata": {},
   "outputs": [
    {
     "name": "stderr",
     "output_type": "stream",
     "text": [
      "[nltk_data] Downloading package treebank to\n",
      "[nltk_data]     C:\\Users\\achin\\AppData\\Roaming\\nltk_data...\n",
      "[nltk_data]   Package treebank is already up-to-date!\n",
      "[nltk_data] Downloading package universal_tagset to\n",
      "[nltk_data]     C:\\Users\\achin\\AppData\\Roaming\\nltk_data...\n",
      "[nltk_data]   Package universal_tagset is already up-to-date!\n"
     ]
    },
    {
     "name": "stdout",
     "output_type": "stream",
     "text": [
      "[[('Pierre', 'NOUN'), ('Vinken', 'NOUN'), (',', '.'), ('61', 'NUM'), ('years', 'NOUN'), ('old', 'ADJ'), (',', '.'), ('will', 'VERB'), ('join', 'VERB'), ('the', 'DET'), ('board', 'NOUN'), ('as', 'ADP'), ('a', 'DET'), ('nonexecutive', 'ADJ'), ('director', 'NOUN'), ('Nov.', 'NOUN'), ('29', 'NUM'), ('.', '.')], [('Mr.', 'NOUN'), ('Vinken', 'NOUN'), ('is', 'VERB'), ('chairman', 'NOUN'), ('of', 'ADP'), ('Elsevier', 'NOUN'), ('N.V.', 'NOUN'), (',', '.'), ('the', 'DET'), ('Dutch', 'NOUN'), ('publishing', 'VERB'), ('group', 'NOUN'), ('.', '.')]]\n"
     ]
    }
   ],
   "source": [
    "import random\n",
    "import pprint, time\n",
    " \n",
    "#download the treebank corpus from nltk\n",
    "nltk.download('treebank')\n",
    " \n",
    "#download the universal tagset from nltk\n",
    "nltk.download('universal_tagset')\n",
    " \n",
    "# reading the Treebank tagged sentences\n",
    "nltk_data = list(nltk.corpus.treebank.tagged_sents(tagset='universal'))\n",
    " \n",
    "#print the first two sentences along with tags\n",
    "print(nltk_data[:2])"
   ]
  },
  {
   "cell_type": "code",
   "execution_count": 121,
   "id": "05d5ec92",
   "metadata": {},
   "outputs": [],
   "source": [
    "train_set,test_set =train_test_split(nltk_data,test_size=0.20,random_state = 101)"
   ]
  },
  {
   "cell_type": "code",
   "execution_count": 122,
   "id": "2e2044e1",
   "metadata": {},
   "outputs": [
    {
     "name": "stdout",
     "output_type": "stream",
     "text": [
      "80310\n",
      "20366\n"
     ]
    }
   ],
   "source": [
    "train_tagged_words = [ tup for sent in train_set for tup in sent ]\n",
    "test_tagged_words = [ tup for sent in test_set for tup in sent ]\n",
    "print(len(train_tagged_words))\n",
    "print(len(test_tagged_words))"
   ]
  },
  {
   "cell_type": "code",
   "execution_count": 123,
   "id": "a899434a",
   "metadata": {},
   "outputs": [
    {
     "name": "stdout",
     "output_type": "stream",
     "text": [
      "12\n",
      "{'NUM', 'PRT', 'VERB', '.', 'ADJ', 'X', 'ADV', 'ADP', 'PRON', 'DET', 'CONJ', 'NOUN'}\n"
     ]
    }
   ],
   "source": [
    "tags = {tag for word,tag in train_tagged_words}\n",
    "print(len(tags))\n",
    "print(tags)\n",
    " \n",
    "# check total words in vocabulary\n",
    "vocab = {word for word,tag in train_tagged_words}"
   ]
  },
  {
   "cell_type": "code",
   "execution_count": 124,
   "id": "586b563f",
   "metadata": {},
   "outputs": [],
   "source": [
    "def word_given_tag(word, tag, train_bag = train_tagged_words):\n",
    "    tag_list = [pair for pair in train_bag if pair[1]==tag]\n",
    "    count_tag = len(tag_list)#total number of times the passed tag occurred in train_bag\n",
    "    w_given_tag_list = [pair[0] for pair in tag_list if pair[0]==word]\n",
    "#now calculate the total number of times the passed word occurred as the passed tag.\n",
    "    count_w_given_tag = len(w_given_tag_list)\n",
    " \n",
    "     \n",
    "    return (count_w_given_tag, count_tag)"
   ]
  },
  {
   "cell_type": "code",
   "execution_count": 125,
   "id": "7c8e2788",
   "metadata": {},
   "outputs": [
    {
     "name": "stdout",
     "output_type": "stream",
     "text": [
      "[[1.84219927e-01 2.60621198e-02 2.07068902e-02 1.19243130e-01\n",
      "  3.53445187e-02 2.02427700e-01 3.57015361e-03 3.74866128e-02\n",
      "  1.42806140e-03 3.57015361e-03 1.42806144e-02 3.51660132e-01]\n",
      " [5.67514673e-02 1.17416831e-03 4.01174158e-01 4.50097844e-02\n",
      "  8.29745606e-02 1.21330721e-02 9.39334650e-03 1.95694715e-02\n",
      "  1.76125243e-02 1.01369865e-01 2.34833662e-03 2.50489235e-01]\n",
      " [2.28360966e-02 3.06629837e-02 1.67955801e-01 3.48066315e-02\n",
      "  6.63904250e-02 2.15930015e-01 8.38858187e-02 9.23572779e-02\n",
      "  3.55432779e-02 1.33609578e-01 5.43278083e-03 1.10589318e-01]\n",
      " [7.82104954e-02 2.78940029e-03 8.96899477e-02 9.23720598e-02\n",
      "  4.61323895e-02 2.56410260e-02 5.25694676e-02 9.29084867e-02\n",
      "  6.87694475e-02 1.72191828e-01 6.00793920e-02 2.18538776e-01]\n",
      " [2.17475723e-02 1.14563107e-02 1.14563107e-02 6.60194159e-02\n",
      "  6.33009672e-02 2.09708735e-02 5.24271838e-03 8.05825219e-02\n",
      "  1.94174761e-04 5.24271838e-03 1.68932043e-02 6.96893215e-01]\n",
      " [3.07514891e-03 1.85085520e-01 2.06419379e-01 1.60868734e-01\n",
      "  1.76821072e-02 7.57255405e-02 2.57543717e-02 1.42225638e-01\n",
      "  5.41995019e-02 5.68902567e-02 1.03786280e-02 6.16951771e-02]\n",
      " [2.98681147e-02 1.47401085e-02 3.39022487e-01 1.39255241e-01\n",
      "  1.30721495e-01 2.28859577e-02 8.14584941e-02 1.19472459e-01\n",
      "  1.20248254e-02 7.13731572e-02 6.98215654e-03 3.21955010e-02]\n",
      " [6.32751212e-02 1.26550242e-03 8.47886596e-03 3.87243740e-02\n",
      "  1.07061505e-01 3.45482156e-02 1.45532778e-02 1.69577319e-02\n",
      "  6.96026310e-02 3.20931405e-01 1.01240189e-03 3.23588967e-01]\n",
      " [6.83371304e-03 1.41230067e-02 4.84738052e-01 4.19134386e-02\n",
      "  7.06150308e-02 8.83826911e-02 3.69020514e-02 2.23234631e-02\n",
      "  6.83371304e-03 9.56719834e-03 5.01138950e-03 2.12756261e-01]\n",
      " [2.28546783e-02 2.87480245e-04 4.02472317e-02 1.73925534e-02\n",
      "  2.06410810e-01 4.51343954e-02 1.20741697e-02 9.91806854e-03\n",
      "  3.30602261e-03 6.03708485e-03 4.31220367e-04 6.35906279e-01]\n",
      " [4.06147093e-02 4.39077942e-03 1.50384188e-01 3.51262353e-02\n",
      "  1.13611415e-01 9.33040585e-03 5.70801310e-02 5.59824370e-02\n",
      "  6.03732169e-02 1.23490669e-01 5.48847427e-04 3.49066973e-01]\n",
      " [9.14395228e-03 4.39345129e-02 1.49133503e-01 2.40094051e-01\n",
      "  1.25838192e-02 2.88252197e-02 1.68945398e-02 1.76826611e-01\n",
      "  4.65906132e-03 1.31063312e-02 4.24540639e-02 2.62344331e-01]]\n"
     ]
    }
   ],
   "source": [
    "def t2_given_t1(t2, t1, train_bag = train_tagged_words):\n",
    "    tags = [pair[1] for pair in train_bag]\n",
    "    count_t1 = len([t for t in tags if t==t1])\n",
    "    count_t2_t1 = 0\n",
    "    for index in range(len(tags)-1):\n",
    "        if tags[index]==t1 and tags[index+1] == t2:\n",
    "            count_t2_t1 += 1\n",
    "    return (count_t2_t1, count_t1)\n",
    "\n",
    "# creating t x t transition matrix of tags, t= no of tags\n",
    "# Matrix(i, j) represents P(jth tag after the ith tag)\n",
    " \n",
    "tags_matrix = np.zeros((len(tags), len(tags)), dtype='float32')\n",
    "for i, t1 in enumerate(list(tags)):\n",
    "    for j, t2 in enumerate(list(tags)): \n",
    "        tags_matrix[i, j] = t2_given_t1(t2, t1)[0]/t2_given_t1(t2, t1)[1]\n",
    " \n",
    "print(tags_matrix)"
   ]
  },
  {
   "cell_type": "code",
   "execution_count": 126,
   "id": "b29709e7",
   "metadata": {},
   "outputs": [
    {
     "data": {
      "text/html": [
       "<div>\n",
       "<style scoped>\n",
       "    .dataframe tbody tr th:only-of-type {\n",
       "        vertical-align: middle;\n",
       "    }\n",
       "\n",
       "    .dataframe tbody tr th {\n",
       "        vertical-align: top;\n",
       "    }\n",
       "\n",
       "    .dataframe thead th {\n",
       "        text-align: right;\n",
       "    }\n",
       "</style>\n",
       "<table border=\"1\" class=\"dataframe\">\n",
       "  <thead>\n",
       "    <tr style=\"text-align: right;\">\n",
       "      <th></th>\n",
       "      <th>NUM</th>\n",
       "      <th>PRT</th>\n",
       "      <th>VERB</th>\n",
       "      <th>.</th>\n",
       "      <th>ADJ</th>\n",
       "      <th>X</th>\n",
       "      <th>ADV</th>\n",
       "      <th>ADP</th>\n",
       "      <th>PRON</th>\n",
       "      <th>DET</th>\n",
       "      <th>CONJ</th>\n",
       "      <th>NOUN</th>\n",
       "    </tr>\n",
       "  </thead>\n",
       "  <tbody>\n",
       "    <tr>\n",
       "      <th>NUM</th>\n",
       "      <td>0.184220</td>\n",
       "      <td>0.026062</td>\n",
       "      <td>0.020707</td>\n",
       "      <td>0.119243</td>\n",
       "      <td>0.035345</td>\n",
       "      <td>0.202428</td>\n",
       "      <td>0.003570</td>\n",
       "      <td>0.037487</td>\n",
       "      <td>0.001428</td>\n",
       "      <td>0.003570</td>\n",
       "      <td>0.014281</td>\n",
       "      <td>0.351660</td>\n",
       "    </tr>\n",
       "    <tr>\n",
       "      <th>PRT</th>\n",
       "      <td>0.056751</td>\n",
       "      <td>0.001174</td>\n",
       "      <td>0.401174</td>\n",
       "      <td>0.045010</td>\n",
       "      <td>0.082975</td>\n",
       "      <td>0.012133</td>\n",
       "      <td>0.009393</td>\n",
       "      <td>0.019569</td>\n",
       "      <td>0.017613</td>\n",
       "      <td>0.101370</td>\n",
       "      <td>0.002348</td>\n",
       "      <td>0.250489</td>\n",
       "    </tr>\n",
       "    <tr>\n",
       "      <th>VERB</th>\n",
       "      <td>0.022836</td>\n",
       "      <td>0.030663</td>\n",
       "      <td>0.167956</td>\n",
       "      <td>0.034807</td>\n",
       "      <td>0.066390</td>\n",
       "      <td>0.215930</td>\n",
       "      <td>0.083886</td>\n",
       "      <td>0.092357</td>\n",
       "      <td>0.035543</td>\n",
       "      <td>0.133610</td>\n",
       "      <td>0.005433</td>\n",
       "      <td>0.110589</td>\n",
       "    </tr>\n",
       "    <tr>\n",
       "      <th>.</th>\n",
       "      <td>0.078210</td>\n",
       "      <td>0.002789</td>\n",
       "      <td>0.089690</td>\n",
       "      <td>0.092372</td>\n",
       "      <td>0.046132</td>\n",
       "      <td>0.025641</td>\n",
       "      <td>0.052569</td>\n",
       "      <td>0.092908</td>\n",
       "      <td>0.068769</td>\n",
       "      <td>0.172192</td>\n",
       "      <td>0.060079</td>\n",
       "      <td>0.218539</td>\n",
       "    </tr>\n",
       "    <tr>\n",
       "      <th>ADJ</th>\n",
       "      <td>0.021748</td>\n",
       "      <td>0.011456</td>\n",
       "      <td>0.011456</td>\n",
       "      <td>0.066019</td>\n",
       "      <td>0.063301</td>\n",
       "      <td>0.020971</td>\n",
       "      <td>0.005243</td>\n",
       "      <td>0.080583</td>\n",
       "      <td>0.000194</td>\n",
       "      <td>0.005243</td>\n",
       "      <td>0.016893</td>\n",
       "      <td>0.696893</td>\n",
       "    </tr>\n",
       "    <tr>\n",
       "      <th>X</th>\n",
       "      <td>0.003075</td>\n",
       "      <td>0.185086</td>\n",
       "      <td>0.206419</td>\n",
       "      <td>0.160869</td>\n",
       "      <td>0.017682</td>\n",
       "      <td>0.075726</td>\n",
       "      <td>0.025754</td>\n",
       "      <td>0.142226</td>\n",
       "      <td>0.054200</td>\n",
       "      <td>0.056890</td>\n",
       "      <td>0.010379</td>\n",
       "      <td>0.061695</td>\n",
       "    </tr>\n",
       "    <tr>\n",
       "      <th>ADV</th>\n",
       "      <td>0.029868</td>\n",
       "      <td>0.014740</td>\n",
       "      <td>0.339022</td>\n",
       "      <td>0.139255</td>\n",
       "      <td>0.130721</td>\n",
       "      <td>0.022886</td>\n",
       "      <td>0.081458</td>\n",
       "      <td>0.119472</td>\n",
       "      <td>0.012025</td>\n",
       "      <td>0.071373</td>\n",
       "      <td>0.006982</td>\n",
       "      <td>0.032196</td>\n",
       "    </tr>\n",
       "    <tr>\n",
       "      <th>ADP</th>\n",
       "      <td>0.063275</td>\n",
       "      <td>0.001266</td>\n",
       "      <td>0.008479</td>\n",
       "      <td>0.038724</td>\n",
       "      <td>0.107062</td>\n",
       "      <td>0.034548</td>\n",
       "      <td>0.014553</td>\n",
       "      <td>0.016958</td>\n",
       "      <td>0.069603</td>\n",
       "      <td>0.320931</td>\n",
       "      <td>0.001012</td>\n",
       "      <td>0.323589</td>\n",
       "    </tr>\n",
       "    <tr>\n",
       "      <th>PRON</th>\n",
       "      <td>0.006834</td>\n",
       "      <td>0.014123</td>\n",
       "      <td>0.484738</td>\n",
       "      <td>0.041913</td>\n",
       "      <td>0.070615</td>\n",
       "      <td>0.088383</td>\n",
       "      <td>0.036902</td>\n",
       "      <td>0.022323</td>\n",
       "      <td>0.006834</td>\n",
       "      <td>0.009567</td>\n",
       "      <td>0.005011</td>\n",
       "      <td>0.212756</td>\n",
       "    </tr>\n",
       "    <tr>\n",
       "      <th>DET</th>\n",
       "      <td>0.022855</td>\n",
       "      <td>0.000287</td>\n",
       "      <td>0.040247</td>\n",
       "      <td>0.017393</td>\n",
       "      <td>0.206411</td>\n",
       "      <td>0.045134</td>\n",
       "      <td>0.012074</td>\n",
       "      <td>0.009918</td>\n",
       "      <td>0.003306</td>\n",
       "      <td>0.006037</td>\n",
       "      <td>0.000431</td>\n",
       "      <td>0.635906</td>\n",
       "    </tr>\n",
       "    <tr>\n",
       "      <th>CONJ</th>\n",
       "      <td>0.040615</td>\n",
       "      <td>0.004391</td>\n",
       "      <td>0.150384</td>\n",
       "      <td>0.035126</td>\n",
       "      <td>0.113611</td>\n",
       "      <td>0.009330</td>\n",
       "      <td>0.057080</td>\n",
       "      <td>0.055982</td>\n",
       "      <td>0.060373</td>\n",
       "      <td>0.123491</td>\n",
       "      <td>0.000549</td>\n",
       "      <td>0.349067</td>\n",
       "    </tr>\n",
       "    <tr>\n",
       "      <th>NOUN</th>\n",
       "      <td>0.009144</td>\n",
       "      <td>0.043935</td>\n",
       "      <td>0.149134</td>\n",
       "      <td>0.240094</td>\n",
       "      <td>0.012584</td>\n",
       "      <td>0.028825</td>\n",
       "      <td>0.016895</td>\n",
       "      <td>0.176827</td>\n",
       "      <td>0.004659</td>\n",
       "      <td>0.013106</td>\n",
       "      <td>0.042454</td>\n",
       "      <td>0.262344</td>\n",
       "    </tr>\n",
       "  </tbody>\n",
       "</table>\n",
       "</div>"
      ],
      "text/plain": [
       "           NUM       PRT      VERB         .       ADJ         X       ADV  \\\n",
       "NUM   0.184220  0.026062  0.020707  0.119243  0.035345  0.202428  0.003570   \n",
       "PRT   0.056751  0.001174  0.401174  0.045010  0.082975  0.012133  0.009393   \n",
       "VERB  0.022836  0.030663  0.167956  0.034807  0.066390  0.215930  0.083886   \n",
       ".     0.078210  0.002789  0.089690  0.092372  0.046132  0.025641  0.052569   \n",
       "ADJ   0.021748  0.011456  0.011456  0.066019  0.063301  0.020971  0.005243   \n",
       "X     0.003075  0.185086  0.206419  0.160869  0.017682  0.075726  0.025754   \n",
       "ADV   0.029868  0.014740  0.339022  0.139255  0.130721  0.022886  0.081458   \n",
       "ADP   0.063275  0.001266  0.008479  0.038724  0.107062  0.034548  0.014553   \n",
       "PRON  0.006834  0.014123  0.484738  0.041913  0.070615  0.088383  0.036902   \n",
       "DET   0.022855  0.000287  0.040247  0.017393  0.206411  0.045134  0.012074   \n",
       "CONJ  0.040615  0.004391  0.150384  0.035126  0.113611  0.009330  0.057080   \n",
       "NOUN  0.009144  0.043935  0.149134  0.240094  0.012584  0.028825  0.016895   \n",
       "\n",
       "           ADP      PRON       DET      CONJ      NOUN  \n",
       "NUM   0.037487  0.001428  0.003570  0.014281  0.351660  \n",
       "PRT   0.019569  0.017613  0.101370  0.002348  0.250489  \n",
       "VERB  0.092357  0.035543  0.133610  0.005433  0.110589  \n",
       ".     0.092908  0.068769  0.172192  0.060079  0.218539  \n",
       "ADJ   0.080583  0.000194  0.005243  0.016893  0.696893  \n",
       "X     0.142226  0.054200  0.056890  0.010379  0.061695  \n",
       "ADV   0.119472  0.012025  0.071373  0.006982  0.032196  \n",
       "ADP   0.016958  0.069603  0.320931  0.001012  0.323589  \n",
       "PRON  0.022323  0.006834  0.009567  0.005011  0.212756  \n",
       "DET   0.009918  0.003306  0.006037  0.000431  0.635906  \n",
       "CONJ  0.055982  0.060373  0.123491  0.000549  0.349067  \n",
       "NOUN  0.176827  0.004659  0.013106  0.042454  0.262344  "
      ]
     },
     "metadata": {},
     "output_type": "display_data"
    }
   ],
   "source": [
    "tags_df = pd.DataFrame(tags_matrix, columns = list(tags), index=list(tags))\n",
    "display(tags_df)"
   ]
  },
  {
   "cell_type": "code",
   "execution_count": 127,
   "id": "aa433558",
   "metadata": {},
   "outputs": [],
   "source": [
    "def Viterbi(words, train_bag = train_tagged_words):\n",
    "    state = []\n",
    "    T = list(set([pair[1] for pair in train_bag]))\n",
    "     \n",
    "    for key, word in enumerate(words):\n",
    "        #initialise list of probability column for a given observation\n",
    "        p = [] \n",
    "        for tag in T:\n",
    "            if key == 0:\n",
    "                transition_p = tags_df.loc['.', tag]\n",
    "            else:\n",
    "                transition_p = tags_df.loc[state[-1], tag]\n",
    "                 \n",
    "            # compute emission and state probabilities\n",
    "            emission_p = word_given_tag(words[key], tag)[0]/word_given_tag(words[key], tag)[1]\n",
    "            state_probability = emission_p * transition_p    \n",
    "            p.append(state_probability)\n",
    "             \n",
    "        pmax = max(p)\n",
    "        # getting state for which probability is maximum\n",
    "        state_max = T[p.index(pmax)] \n",
    "        state.append(state_max)\n",
    "    return list(zip(words, state))"
   ]
  },
  {
   "cell_type": "code",
   "execution_count": 128,
   "id": "9fb7fe57",
   "metadata": {},
   "outputs": [],
   "source": []
  },
  {
   "cell_type": "code",
   "execution_count": 143,
   "id": "55051942",
   "metadata": {},
   "outputs": [
    {
     "name": "stdout",
     "output_type": "stream",
     "text": [
      "Time taken in seconds:  35.23859739303589\n",
      "Viterbi Algorithm Accuracy:  93.77990430622009\n"
     ]
    }
   ],
   "source": [
    "tagged_seq = Viterbi(test_tagged_words)\n",
    "difference = end-start\n",
    " \n",
    "print(\"Time taken in seconds: \", difference)\n",
    " \n",
    "# accuracy\n",
    "check = [i for i, j in zip(tagged_seq, test_run_base) if i == j] \n",
    "\n",
    "accuracy = len(check)/len(tagged_seq)\n",
    "print('Viterbi Algorithm Accuracy: ',accuracy*100)"
   ]
  },
  {
   "cell_type": "code",
   "execution_count": 144,
   "id": "1bdd560a",
   "metadata": {},
   "outputs": [
    {
     "data": {
      "text/plain": [
       "'NUM'"
      ]
     },
     "execution_count": 144,
     "metadata": {},
     "output_type": "execute_result"
    }
   ],
   "source": [
    "tagged_seq[3][1]"
   ]
  },
  {
   "cell_type": "code",
   "execution_count": 138,
   "id": "a776c7d5",
   "metadata": {},
   "outputs": [],
   "source": [
    "y_test1=[]\n",
    "y_pred1=[]\n",
    "for i in range(0,len(tagged_seq)):\n",
    "    y_pred1.append(tagged_seq[i][1])\n",
    "    \n",
    "for i in range(0,len(test_run_base)):\n",
    "    y_test1.append(test_run_base[i][1])"
   ]
  },
  {
   "cell_type": "code",
   "execution_count": 139,
   "id": "c938caa1",
   "metadata": {},
   "outputs": [],
   "source": [
    "from sklearn import preprocessing\n",
    "le = preprocessing.LabelEncoder()\n",
    "y_test1=le.fit_transform(y_test1)\n",
    "y_pred1=le.transform(y_pred1)"
   ]
  },
  {
   "cell_type": "code",
   "execution_count": 140,
   "id": "5c309765",
   "metadata": {},
   "outputs": [
    {
     "name": "stdout",
     "output_type": "stream",
     "text": [
      "              precision    recall  f1-score   support\n",
      "\n",
      "           0       1.00      1.00      1.00        29\n",
      "           1       0.78      0.88      0.82         8\n",
      "           2       1.00      1.00      1.00        16\n",
      "           3       0.91      0.91      0.91        11\n",
      "           4       1.00      1.00      1.00         4\n",
      "           5       1.00      1.00      1.00        18\n",
      "           6       1.00      0.89      0.94        62\n",
      "           7       0.18      1.00      0.31         2\n",
      "           8       1.00      1.00      1.00         5\n",
      "           9       1.00      1.00      1.00         4\n",
      "          10       0.97      0.91      0.94        35\n",
      "          11       1.00      0.93      0.97        15\n",
      "\n",
      "    accuracy                           0.94       209\n",
      "   macro avg       0.90      0.96      0.91       209\n",
      "weighted avg       0.97      0.94      0.95       209\n",
      "\n"
     ]
    },
    {
     "data": {
      "text/plain": [
       "0.937799043062201"
      ]
     },
     "execution_count": 140,
     "metadata": {},
     "output_type": "execute_result"
    }
   ],
   "source": [
    "print(classification_report(y_test1, y_pred1))\n",
    "accuracy_score(y_test1, y_pred1)"
   ]
  },
  {
   "cell_type": "code",
   "execution_count": null,
   "id": "6c66488c",
   "metadata": {},
   "outputs": [],
   "source": []
  }
 ],
 "metadata": {
  "kernelspec": {
   "display_name": "Python 3 (ipykernel)",
   "language": "python",
   "name": "python3"
  },
  "language_info": {
   "codemirror_mode": {
    "name": "ipython",
    "version": 3
   },
   "file_extension": ".py",
   "mimetype": "text/x-python",
   "name": "python",
   "nbconvert_exporter": "python",
   "pygments_lexer": "ipython3",
   "version": "3.9.7"
  }
 },
 "nbformat": 4,
 "nbformat_minor": 5
}
